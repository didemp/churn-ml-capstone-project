{
 "cells": [
  {
   "cell_type": "markdown",
   "id": "18c155a6",
   "metadata": {},
   "source": [
    "# BASE MODEL\n",
    "\n",
    "After the exploratory data analysis part is over, there is a part of deciding which model or models to choose in the modeling part.\n",
    "\n",
    "For this, it was desired to understand the success of the models quickly by creating a base model function and to make a model decision accordingly."
   ]
  },
  {
   "cell_type": "code",
   "execution_count": 2,
   "id": "a5192bc8",
   "metadata": {},
   "outputs": [
    {
     "name": "stdout",
     "output_type": "stream",
     "text": [
      "Requirement already satisfied: catboost in c:\\users\\x\\anaconda3\\lib\\site-packages (1.1.1)\n",
      "Requirement already satisfied: graphviz in c:\\users\\x\\anaconda3\\lib\\site-packages (from catboost) (0.20.1)\n",
      "Requirement already satisfied: scipy in c:\\users\\x\\anaconda3\\lib\\site-packages (from catboost) (1.9.3)\n",
      "Requirement already satisfied: six in c:\\users\\x\\anaconda3\\lib\\site-packages (from catboost) (1.16.0)\n",
      "Requirement already satisfied: pandas>=0.24.0 in c:\\users\\x\\anaconda3\\lib\\site-packages (from catboost) (1.4.4)\n",
      "Requirement already satisfied: plotly in c:\\users\\x\\anaconda3\\lib\\site-packages (from catboost) (5.11.0)\n",
      "Requirement already satisfied: matplotlib in c:\\users\\x\\anaconda3\\lib\\site-packages (from catboost) (3.6.2)\n",
      "Requirement already satisfied: numpy>=1.16.0 in c:\\users\\x\\anaconda3\\lib\\site-packages (from catboost) (1.23.5)\n",
      "Requirement already satisfied: python-dateutil>=2.8.1 in c:\\users\\x\\anaconda3\\lib\\site-packages (from pandas>=0.24.0->catboost) (2.8.2)\n",
      "Requirement already satisfied: pytz>=2020.1 in c:\\users\\x\\anaconda3\\lib\\site-packages (from pandas>=0.24.0->catboost) (2022.7)\n",
      "Requirement already satisfied: pillow>=6.2.0 in c:\\users\\x\\anaconda3\\lib\\site-packages (from matplotlib->catboost) (9.3.0)\n",
      "Requirement already satisfied: cycler>=0.10 in c:\\users\\x\\anaconda3\\lib\\site-packages (from matplotlib->catboost) (0.11.0)\n",
      "Requirement already satisfied: kiwisolver>=1.0.1 in c:\\users\\x\\anaconda3\\lib\\site-packages (from matplotlib->catboost) (1.4.4)\n",
      "Requirement already satisfied: pyparsing>=2.2.1 in c:\\users\\x\\anaconda3\\lib\\site-packages (from matplotlib->catboost) (3.0.9)\n",
      "Requirement already satisfied: contourpy>=1.0.1 in c:\\users\\x\\anaconda3\\lib\\site-packages (from matplotlib->catboost) (1.0.5)\n",
      "Requirement already satisfied: packaging>=20.0 in c:\\users\\x\\anaconda3\\lib\\site-packages (from matplotlib->catboost) (22.0)\n",
      "Requirement already satisfied: fonttools>=4.22.0 in c:\\users\\x\\anaconda3\\lib\\site-packages (from matplotlib->catboost) (4.25.0)\n",
      "Requirement already satisfied: tenacity>=6.2.0 in c:\\users\\x\\anaconda3\\lib\\site-packages (from plotly->catboost) (8.1.0)\n",
      "Requirement already satisfied: lightgbm in c:\\users\\x\\anaconda3\\lib\\site-packages (3.3.4)\n",
      "Requirement already satisfied: wheel in c:\\users\\x\\anaconda3\\lib\\site-packages (from lightgbm) (0.37.1)\n",
      "Requirement already satisfied: scipy in c:\\users\\x\\anaconda3\\lib\\site-packages (from lightgbm) (1.9.3)\n",
      "Requirement already satisfied: numpy in c:\\users\\x\\anaconda3\\lib\\site-packages (from lightgbm) (1.23.5)\n",
      "Requirement already satisfied: scikit-learn!=0.22.0 in c:\\users\\x\\anaconda3\\lib\\site-packages (from lightgbm) (1.2.0)\n",
      "Requirement already satisfied: threadpoolctl>=2.0.0 in c:\\users\\x\\anaconda3\\lib\\site-packages (from scikit-learn!=0.22.0->lightgbm) (2.2.0)\n",
      "Requirement already satisfied: joblib>=1.1.1 in c:\\users\\x\\anaconda3\\lib\\site-packages (from scikit-learn!=0.22.0->lightgbm) (1.2.0)\n",
      "Requirement already satisfied: xgboost in c:\\users\\x\\anaconda3\\lib\\site-packages (1.7.3)\n",
      "Requirement already satisfied: numpy in c:\\users\\x\\anaconda3\\lib\\site-packages (from xgboost) (1.23.5)\n",
      "Requirement already satisfied: scipy in c:\\users\\x\\anaconda3\\lib\\site-packages (from xgboost) (1.9.3)\n"
     ]
    }
   ],
   "source": [
    "import joblib\n",
    "import pandas as pd\n",
    "import seaborn as sns\n",
    "from matplotlib import pyplot as plt\n",
    "from sklearn.ensemble import RandomForestClassifier, GradientBoostingClassifier, VotingClassifier, AdaBoostClassifier\n",
    "from sklearn.linear_model import LogisticRegression\n",
    "from sklearn.model_selection import cross_validate, GridSearchCV\n",
    "from sklearn.neighbors import KNeighborsClassifier\n",
    "from sklearn.svm import SVC\n",
    "from sklearn.tree import DecisionTreeClassifier\n",
    "from sklearn.preprocessing import StandardScaler\n",
    "\n",
    "!pip install catboost\n",
    "!pip install lightgbm\n",
    "!pip install xgboost\n",
    "\n",
    "from xgboost import XGBClassifier\n",
    "from lightgbm import LGBMClassifier\n",
    "from catboost import CatBoostClassifier\n",
    "\n",
    "pd.set_option('display.max_columns', None)\n",
    "pd.set_option('display.width', 500)"
   ]
  },
  {
   "cell_type": "code",
   "execution_count": 3,
   "id": "aa633773",
   "metadata": {},
   "outputs": [],
   "source": [
    "data=pd.read_csv(\"customer_data.csv\")"
   ]
  },
  {
   "cell_type": "code",
   "execution_count": 4,
   "id": "1b60c2e0",
   "metadata": {},
   "outputs": [
    {
     "data": {
      "text/html": [
       "<div>\n",
       "<style scoped>\n",
       "    .dataframe tbody tr th:only-of-type {\n",
       "        vertical-align: middle;\n",
       "    }\n",
       "\n",
       "    .dataframe tbody tr th {\n",
       "        vertical-align: top;\n",
       "    }\n",
       "\n",
       "    .dataframe thead th {\n",
       "        text-align: right;\n",
       "    }\n",
       "</style>\n",
       "<table border=\"1\" class=\"dataframe\">\n",
       "  <thead>\n",
       "    <tr style=\"text-align: right;\">\n",
       "      <th></th>\n",
       "      <th>Customer_Age</th>\n",
       "      <th>Gender</th>\n",
       "      <th>Dependent_count</th>\n",
       "      <th>Education_Level</th>\n",
       "      <th>Marital_Status</th>\n",
       "      <th>Income_Category</th>\n",
       "      <th>Card_Category</th>\n",
       "      <th>Months_on_book</th>\n",
       "      <th>Total_Relationship_Count</th>\n",
       "      <th>Months_Inactive_12_mon</th>\n",
       "      <th>Contacts_Count_12_mon</th>\n",
       "      <th>Credit_Limit</th>\n",
       "      <th>Total_Revolving_Bal</th>\n",
       "      <th>Avg_Open_To_Buy</th>\n",
       "      <th>Total_Amt_Chng_Q4_Q1</th>\n",
       "      <th>Total_Trans_Amt</th>\n",
       "      <th>Total_Trans_Ct</th>\n",
       "      <th>Total_Ct_Chng_Q4_Q1</th>\n",
       "      <th>Avg_Utilization_Ratio</th>\n",
       "      <th>Transaction_Count_per_Contact</th>\n",
       "      <th>Loyal_Customer</th>\n",
       "      <th>Creditworthiness</th>\n",
       "      <th>Cr_Util_Rate</th>\n",
       "      <th>Attrition_Flag</th>\n",
       "    </tr>\n",
       "  </thead>\n",
       "  <tbody>\n",
       "    <tr>\n",
       "      <th>0</th>\n",
       "      <td>0.0</td>\n",
       "      <td>-1.0</td>\n",
       "      <td>0.5</td>\n",
       "      <td>-1.0</td>\n",
       "      <td>1.0</td>\n",
       "      <td>0.5</td>\n",
       "      <td>0.0</td>\n",
       "      <td>0.0</td>\n",
       "      <td>0.5</td>\n",
       "      <td>-1.0</td>\n",
       "      <td>1.0</td>\n",
       "      <td>0.956476</td>\n",
       "      <td>-0.350175</td>\n",
       "      <td>0.988927</td>\n",
       "      <td>2.627193</td>\n",
       "      <td>-1.065558</td>\n",
       "      <td>-0.694444</td>\n",
       "      <td>3.911017</td>\n",
       "      <td>-0.239583</td>\n",
       "      <td>-0.500000</td>\n",
       "      <td>0.0</td>\n",
       "      <td>-0.284692</td>\n",
       "      <td>-0.238398</td>\n",
       "      <td>0</td>\n",
       "    </tr>\n",
       "    <tr>\n",
       "      <th>1</th>\n",
       "      <td>0.0</td>\n",
       "      <td>0.0</td>\n",
       "      <td>1.5</td>\n",
       "      <td>0.0</td>\n",
       "      <td>0.0</td>\n",
       "      <td>-0.5</td>\n",
       "      <td>0.0</td>\n",
       "      <td>0.0</td>\n",
       "      <td>1.0</td>\n",
       "      <td>-1.0</td>\n",
       "      <td>0.0</td>\n",
       "      <td>0.435477</td>\n",
       "      <td>-0.289123</td>\n",
       "      <td>0.459078</td>\n",
       "      <td>3.530702</td>\n",
       "      <td>-1.008702</td>\n",
       "      <td>-0.944444</td>\n",
       "      <td>12.762712</td>\n",
       "      <td>-0.147917</td>\n",
       "      <td>-0.666667</td>\n",
       "      <td>0.0</td>\n",
       "      <td>-0.618989</td>\n",
       "      <td>-0.147921</td>\n",
       "      <td>0</td>\n",
       "    </tr>\n",
       "    <tr>\n",
       "      <th>2</th>\n",
       "      <td>0.0</td>\n",
       "      <td>-1.0</td>\n",
       "      <td>0.5</td>\n",
       "      <td>0.0</td>\n",
       "      <td>1.0</td>\n",
       "      <td>1.0</td>\n",
       "      <td>0.0</td>\n",
       "      <td>0.0</td>\n",
       "      <td>0.0</td>\n",
       "      <td>-1.0</td>\n",
       "      <td>-2.0</td>\n",
       "      <td>-0.132863</td>\n",
       "      <td>-0.895439</td>\n",
       "      <td>-0.006562</td>\n",
       "      <td>8.149123</td>\n",
       "      <td>-0.778186</td>\n",
       "      <td>-1.305556</td>\n",
       "      <td>6.911017</td>\n",
       "      <td>-0.366667</td>\n",
       "      <td>-0.907407</td>\n",
       "      <td>0.0</td>\n",
       "      <td>2.281101</td>\n",
       "      <td>-0.365955</td>\n",
       "      <td>0</td>\n",
       "    </tr>\n",
       "    <tr>\n",
       "      <th>3</th>\n",
       "      <td>-1.0</td>\n",
       "      <td>0.0</td>\n",
       "      <td>1.0</td>\n",
       "      <td>-1.0</td>\n",
       "      <td>0.0</td>\n",
       "      <td>-0.5</td>\n",
       "      <td>0.0</td>\n",
       "      <td>-1.0</td>\n",
       "      <td>-0.5</td>\n",
       "      <td>2.0</td>\n",
       "      <td>-1.0</td>\n",
       "      <td>-0.145198</td>\n",
       "      <td>0.870877</td>\n",
       "      <td>-0.313785</td>\n",
       "      <td>2.934211</td>\n",
       "      <td>-1.055115</td>\n",
       "      <td>-1.305556</td>\n",
       "      <td>6.911017</td>\n",
       "      <td>1.216667</td>\n",
       "      <td>-0.537037</td>\n",
       "      <td>-1.0</td>\n",
       "      <td>-0.228374</td>\n",
       "      <td>1.216900</td>\n",
       "      <td>0</td>\n",
       "    </tr>\n",
       "    <tr>\n",
       "      <th>4</th>\n",
       "      <td>-1.0</td>\n",
       "      <td>-1.0</td>\n",
       "      <td>0.5</td>\n",
       "      <td>-1.0</td>\n",
       "      <td>1.0</td>\n",
       "      <td>0.5</td>\n",
       "      <td>0.0</td>\n",
       "      <td>-2.0</td>\n",
       "      <td>0.5</td>\n",
       "      <td>-1.0</td>\n",
       "      <td>-2.0</td>\n",
       "      <td>0.019618</td>\n",
       "      <td>-0.895439</td>\n",
       "      <td>0.145527</td>\n",
       "      <td>6.311404</td>\n",
       "      <td>-1.192419</td>\n",
       "      <td>-1.083333</td>\n",
       "      <td>7.618644</td>\n",
       "      <td>-0.366667</td>\n",
       "      <td>-1.277778</td>\n",
       "      <td>-1.0</td>\n",
       "      <td>0.723351</td>\n",
       "      <td>-0.365955</td>\n",
       "      <td>0</td>\n",
       "    </tr>\n",
       "  </tbody>\n",
       "</table>\n",
       "</div>"
      ],
      "text/plain": [
       "   Customer_Age  Gender  Dependent_count  Education_Level  Marital_Status  Income_Category  Card_Category  Months_on_book  Total_Relationship_Count  Months_Inactive_12_mon  Contacts_Count_12_mon  Credit_Limit  Total_Revolving_Bal  Avg_Open_To_Buy  Total_Amt_Chng_Q4_Q1  Total_Trans_Amt  Total_Trans_Ct  Total_Ct_Chng_Q4_Q1  Avg_Utilization_Ratio  Transaction_Count_per_Contact  Loyal_Customer  Creditworthiness  Cr_Util_Rate  Attrition_Flag\n",
       "0           0.0    -1.0              0.5             -1.0             1.0              0.5            0.0             0.0                       0.5                    -1.0                    1.0      0.956476            -0.350175         0.988927              2.627193        -1.065558       -0.694444             3.911017              -0.239583                      -0.500000             0.0         -0.284692     -0.238398               0\n",
       "1           0.0     0.0              1.5              0.0             0.0             -0.5            0.0             0.0                       1.0                    -1.0                    0.0      0.435477            -0.289123         0.459078              3.530702        -1.008702       -0.944444            12.762712              -0.147917                      -0.666667             0.0         -0.618989     -0.147921               0\n",
       "2           0.0    -1.0              0.5              0.0             1.0              1.0            0.0             0.0                       0.0                    -1.0                   -2.0     -0.132863            -0.895439        -0.006562              8.149123        -0.778186       -1.305556             6.911017              -0.366667                      -0.907407             0.0          2.281101     -0.365955               0\n",
       "3          -1.0     0.0              1.0             -1.0             0.0             -0.5            0.0            -1.0                      -0.5                     2.0                   -1.0     -0.145198             0.870877        -0.313785              2.934211        -1.055115       -1.305556             6.911017               1.216667                      -0.537037            -1.0         -0.228374      1.216900               0\n",
       "4          -1.0    -1.0              0.5             -1.0             1.0              0.5            0.0            -2.0                       0.5                    -1.0                   -2.0      0.019618            -0.895439         0.145527              6.311404        -1.192419       -1.083333             7.618644              -0.366667                      -1.277778            -1.0          0.723351     -0.365955               0"
      ]
     },
     "execution_count": 4,
     "metadata": {},
     "output_type": "execute_result"
    }
   ],
   "source": [
    "data.head()"
   ]
  },
  {
   "cell_type": "code",
   "execution_count": 35,
   "id": "55c1ceaa",
   "metadata": {},
   "outputs": [],
   "source": [
    "y = data[\"Attrition_Flag\"]\n",
    "X = data.drop([\"Attrition_Flag\"], axis=1)"
   ]
  },
  {
   "cell_type": "code",
   "execution_count": 36,
   "id": "a3495312",
   "metadata": {},
   "outputs": [],
   "source": [
    "def base_models(X, y, scoring=\"roc_auc\"):\n",
    "    print(\"Base Models....\")\n",
    "    classifiers = [('LR', LogisticRegression()),\n",
    "                   (\"SVC\", SVC()),\n",
    "                   (\"CART\", DecisionTreeClassifier()),\n",
    "                   (\"RF\", RandomForestClassifier()),\n",
    "                   ('Adaboost', AdaBoostClassifier()),\n",
    "                   ('GBM', GradientBoostingClassifier()),\n",
    "                   ('XGBoost', XGBClassifier()),\n",
    "                   ('LightGBM', LGBMClassifier()),\n",
    "                   ('CatBoost', CatBoostClassifier(verbose=False))\n",
    "                   ]\n",
    "\n",
    "    for name, classifier in classifiers:\n",
    "        cv_results = cross_validate(classifier, X, y, cv=3, scoring=scoring)\n",
    "        print(f\"{scoring}: {round(cv_results['test_score'].mean(), 4)} ({name}) \")"
   ]
  },
  {
   "cell_type": "code",
   "execution_count": 37,
   "id": "b3fa14a3",
   "metadata": {},
   "outputs": [
    {
     "name": "stdout",
     "output_type": "stream",
     "text": [
      "Base Models....\n",
      "accuracy: 0.7882 (LR) \n",
      "accuracy: 0.8234 (SVC) \n",
      "accuracy: 0.8304 (CART) \n",
      "accuracy: 0.8557 (RF) \n",
      "accuracy: 0.8594 (Adaboost) \n",
      "accuracy: 0.8839 (GBM) \n",
      "accuracy: 0.8857 (XGBoost) \n",
      "accuracy: 0.8875 (LightGBM) \n",
      "accuracy: 0.8921 (CatBoost) \n"
     ]
    }
   ],
   "source": [
    "base_models(X, y, scoring=\"accuracy\")"
   ]
  },
  {
   "cell_type": "code",
   "execution_count": 38,
   "id": "75252d3c",
   "metadata": {},
   "outputs": [
    {
     "name": "stdout",
     "output_type": "stream",
     "text": [
      "Base Models....\n",
      "f1: 0.5175 (LR) \n",
      "f1: 0.5416 (SVC) \n",
      "f1: 0.5668 (CART) \n",
      "f1: 0.6272 (RF) \n",
      "f1: 0.6368 (Adaboost) \n",
      "f1: 0.6724 (GBM) \n",
      "f1: 0.6822 (XGBoost) \n",
      "f1: 0.6773 (LightGBM) \n",
      "f1: 0.6927 (CatBoost) \n"
     ]
    }
   ],
   "source": [
    "base_models(X, y, scoring=\"f1\")"
   ]
  },
  {
   "cell_type": "code",
   "execution_count": 39,
   "id": "b6ee7235",
   "metadata": {},
   "outputs": [
    {
     "name": "stdout",
     "output_type": "stream",
     "text": [
      "Base Models....\n",
      "roc_auc: 0.8944 (LR) \n",
      "roc_auc: 0.8709 (SVC) \n",
      "roc_auc: 0.7437 (CART) \n",
      "roc_auc: 0.8748 (RF) \n",
      "roc_auc: 0.8816 (Adaboost) \n",
      "roc_auc: 0.889 (GBM) \n",
      "roc_auc: 0.8955 (XGBoost) \n",
      "roc_auc: 0.9051 (LightGBM) \n",
      "roc_auc: 0.8992 (CatBoost) \n"
     ]
    }
   ],
   "source": [
    "base_models(X, y, scoring=\"roc_auc\")"
   ]
  },
  {
   "attachments": {
    "f1.PNG": {
     "image/png": "[encoded data removed]"
    }
   },
   "cell_type": "markdown",
   "id": "780ee295",
   "metadata": {},
   "source": [
    "Accuracy is the ratio of correct predictions to all predictions in the system. \n",
    "\n",
    "As seen by base_models(X, y, scoring=\"accuracy\"), the accuracy of the models is quite <span style=\"color:red\">high</span>. When looking at base_models(X, y, scoring=\"f1\") the values are quite <span style=\"color:red\">low</span>. \n",
    "\n",
    "The F1 score is defined as the harmonic mean of precision and recall. \n",
    "\n",
    "\n",
    "![f1.PNG](attachment:f1.PNG)\n",
    "\n",
    "Interpreting the results of the metrics is very important at this point. \n",
    "\n",
    "\n",
    "**At this point, we can say that the distribution of the data is not balanced and therefore the accuracy is high while the f1 score is low. Let's do this again by looking at the percentages of categories 1 and 0 of our dependent variable.**\n",
    "\n",
    "\n"
   ]
  },
  {
   "cell_type": "code",
   "execution_count": 74,
   "id": "e6617db4",
   "metadata": {},
   "outputs": [
    {
     "data": {
      "text/plain": [
       "0    83.934038\n",
       "1    16.065962\n",
       "Name: Attrition_Flag, dtype: float64"
      ]
     },
     "execution_count": 74,
     "metadata": {},
     "output_type": "execute_result"
    }
   ],
   "source": [
    "data[\"Attrition_Flag\"].value_counts()*100/len(data[\"Attrition_Flag\"])"
   ]
  },
  {
   "cell_type": "markdown",
   "id": "9c3a11b5",
   "metadata": {},
   "source": [
    "The SMOTE method was applied to the dataset to remove the imbalance.\n",
    "\n",
    "### SMOTE Oversampling:\n",
    "\n",
    "Generating minority class synthetic samples to prevent overfitting.\n",
    "\n",
    "1. First, a random sample from the minority class is selected.\n",
    "2. Then, k nearest neighbors are found for this sample.\n",
    "3. One of the k nearest neighbors is randomly selected and the synthetic sample is formed by combining it with the randomly selected sample from the minority class and forming a line segment in the feature space.\n",
    "\n",
    "\n",
    "NOTE: <span style=\"color:red\">The methods should be applied to the train set. Correct evaluation cannot be made if it is applied to the test set.</span> "
   ]
  },
  {
   "cell_type": "code",
   "execution_count": 30,
   "id": "0792f7a0",
   "metadata": {},
   "outputs": [],
   "source": [
    "from imblearn.over_sampling import SMOTE\n",
    "from sklearn.model_selection import train_test_split\n",
    "\n",
    "X_train, X_test, y_train, y_test = train_test_split(X, y, train_size=0.8, random_state=1)"
   ]
  },
  {
   "cell_type": "code",
   "execution_count": 31,
   "id": "d3b8344c",
   "metadata": {},
   "outputs": [],
   "source": [
    "sm = SMOTE(random_state = 1, sampling_strategy = 1.0)\n",
    "X_train, y_train = sm.fit_resample(X_train, y_train)"
   ]
  },
  {
   "cell_type": "code",
   "execution_count": 32,
   "id": "ff57ba3b",
   "metadata": {},
   "outputs": [
    {
     "name": "stdout",
     "output_type": "stream",
     "text": [
      "Base Models....\n",
      "accuracy: 0.8607 (LR) \n",
      "accuracy: 0.9421 (SVC) \n",
      "accuracy: 0.9452 (CART) \n",
      "accuracy: 0.9752 (RF) \n",
      "accuracy: 0.9477 (Adaboost) \n",
      "accuracy: 0.9612 (GBM) \n",
      "accuracy: 0.9657 (XGBoost) \n",
      "accuracy: 0.9675 (LightGBM) \n",
      "accuracy: 0.9602 (CatBoost) \n"
     ]
    }
   ],
   "source": [
    "base_models(X_train, y_train, scoring=\"accuracy\")"
   ]
  },
  {
   "cell_type": "code",
   "execution_count": 33,
   "id": "4408bc64",
   "metadata": {},
   "outputs": [
    {
     "name": "stdout",
     "output_type": "stream",
     "text": [
      "Base Models....\n",
      "f1: 0.8614 (LR) \n",
      "f1: 0.9432 (SVC) \n",
      "f1: 0.9449 (CART) \n",
      "f1: 0.975 (RF) \n",
      "f1: 0.947 (Adaboost) \n",
      "f1: 0.9601 (GBM) \n",
      "f1: 0.9638 (XGBoost) \n",
      "f1: 0.9661 (LightGBM) \n",
      "f1: 0.9569 (CatBoost) \n"
     ]
    }
   ],
   "source": [
    "base_models(X_train, y_train, scoring=\"f1\")"
   ]
  },
  {
   "cell_type": "code",
   "execution_count": 34,
   "id": "aa028520",
   "metadata": {},
   "outputs": [
    {
     "name": "stdout",
     "output_type": "stream",
     "text": [
      "Base Models....\n",
      "roc_auc: 0.9362 (LR) \n",
      "roc_auc: 0.9827 (SVC) \n",
      "roc_auc: 0.9456 (CART) \n",
      "roc_auc: 0.997 (RF) \n",
      "roc_auc: 0.9899 (Adaboost) \n",
      "roc_auc: 0.9951 (GBM) \n",
      "roc_auc: 0.9976 (XGBoost) \n",
      "roc_auc: 0.9979 (LightGBM) \n",
      "roc_auc: 0.998 (CatBoost) \n"
     ]
    }
   ],
   "source": [
    "base_models(X_train, y_train, scoring=\"roc_auc\")"
   ]
  },
  {
   "cell_type": "code",
   "execution_count": 72,
   "id": "557826f3",
   "metadata": {},
   "outputs": [],
   "source": [
    "from sklearn.metrics import classification_report\n",
    "def base_models_test(X_train, y_train,x_test,y_test):\n",
    "    print(\"Base Models....\")\n",
    "    classifiers = [#('LR', LogisticRegression().fit(X_train,y_train)),\n",
    "                   #(\"SVC\", SVC().fit(X_train,y_train)),\n",
    "                   (\"CART\", DecisionTreeClassifier().fit(X_train,y_train)),\n",
    "                   (\"RF\", RandomForestClassifier().fit(X_train,y_train)),\n",
    "                   ('Adaboost', AdaBoostClassifier().fit(X_train,y_train)),\n",
    "                   ('GBM', GradientBoostingClassifier().fit(X_train,y_train)),\n",
    "                   ('XGBoost', XGBClassifier().fit(X_train,y_train)),\n",
    "                   ('LightGBM', LGBMClassifier().fit(X_train,y_train)),\n",
    "                   ('CatBoost', CatBoostClassifier(verbose=False).fit(X_train,y_train))\n",
    "                   ]\n",
    "\n",
    "    for name, classifier in classifiers:\n",
    "        print(name)\n",
    "        y_pred = classifier.predict(X_test)\n",
    "        print(classification_report(y_test, y_pred))"
   ]
  },
  {
   "cell_type": "code",
   "execution_count": 73,
   "id": "fd5617ec",
   "metadata": {},
   "outputs": [
    {
     "name": "stdout",
     "output_type": "stream",
     "text": [
      "Base Models....\n",
      "CART\n",
      "              precision    recall  f1-score   support\n",
      "\n",
      "           0       0.97      0.94      0.95      1695\n",
      "           1       0.74      0.82      0.78       331\n",
      "\n",
      "    accuracy                           0.92      2026\n",
      "   macro avg       0.85      0.88      0.87      2026\n",
      "weighted avg       0.93      0.92      0.93      2026\n",
      "\n",
      "RF\n",
      "              precision    recall  f1-score   support\n",
      "\n",
      "           0       0.97      0.98      0.98      1695\n",
      "           1       0.89      0.87      0.88       331\n",
      "\n",
      "    accuracy                           0.96      2026\n",
      "   macro avg       0.93      0.92      0.93      2026\n",
      "weighted avg       0.96      0.96      0.96      2026\n",
      "\n",
      "Adaboost\n",
      "              precision    recall  f1-score   support\n",
      "\n",
      "           0       0.98      0.95      0.97      1695\n",
      "           1       0.79      0.92      0.85       331\n",
      "\n",
      "    accuracy                           0.95      2026\n",
      "   macro avg       0.88      0.93      0.91      2026\n",
      "weighted avg       0.95      0.95      0.95      2026\n",
      "\n",
      "GBM\n",
      "              precision    recall  f1-score   support\n",
      "\n",
      "           0       0.98      0.97      0.98      1695\n",
      "           1       0.86      0.92      0.89       331\n",
      "\n",
      "    accuracy                           0.96      2026\n",
      "   macro avg       0.92      0.94      0.93      2026\n",
      "weighted avg       0.96      0.96      0.96      2026\n",
      "\n",
      "XGBoost\n",
      "              precision    recall  f1-score   support\n",
      "\n",
      "           0       0.98      0.98      0.98      1695\n",
      "           1       0.90      0.90      0.90       331\n",
      "\n",
      "    accuracy                           0.97      2026\n",
      "   macro avg       0.94      0.94      0.94      2026\n",
      "weighted avg       0.97      0.97      0.97      2026\n",
      "\n",
      "LightGBM\n",
      "              precision    recall  f1-score   support\n",
      "\n",
      "           0       0.99      0.98      0.98      1695\n",
      "           1       0.91      0.92      0.91       331\n",
      "\n",
      "    accuracy                           0.97      2026\n",
      "   macro avg       0.95      0.95      0.95      2026\n",
      "weighted avg       0.97      0.97      0.97      2026\n",
      "\n",
      "CatBoost\n",
      "              precision    recall  f1-score   support\n",
      "\n",
      "           0       0.98      0.98      0.98      1695\n",
      "           1       0.92      0.91      0.92       331\n",
      "\n",
      "    accuracy                           0.97      2026\n",
      "   macro avg       0.95      0.95      0.95      2026\n",
      "weighted avg       0.97      0.97      0.97      2026\n",
      "\n"
     ]
    }
   ],
   "source": [
    "base_models_test(X_train, y_train,X_test,y_test)"
   ]
  },
  {
   "cell_type": "markdown",
   "id": "5adaa6cb",
   "metadata": {},
   "source": [
    "For hyperparameter optimization, instead of making it to all models, the model that is successful in this data will be selected and the hyperparameter will be continued over it.\n",
    "\n",
    "In this section, it is aimed to quickly look at all models in order to decide on the model selection."
   ]
  },
  {
   "cell_type": "code",
   "execution_count": null,
   "id": "36fa5990",
   "metadata": {},
   "outputs": [],
   "source": []
  }
 ],
 "metadata": {
  "kernelspec": {
   "display_name": "Python 3 (ipykernel)",
   "language": "python",
   "name": "python3"
  },
  "language_info": {
   "codemirror_mode": {
    "name": "ipython",
    "version": 3
   },
   "file_extension": ".py",
   "mimetype": "text/x-python",
   "name": "python",
   "nbconvert_exporter": "python",
   "pygments_lexer": "ipython3",
   "version": "3.9.7"
  }
 },
 "nbformat": 4,
 "nbformat_minor": 5
}
