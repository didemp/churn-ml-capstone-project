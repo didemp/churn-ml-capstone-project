{
 "cells": [
  {
   "cell_type": "markdown",
   "id": "d6e915a0",
   "metadata": {},
   "source": [
    "# Classification & Regression Tree\n",
    "\n",
    "\n",
    "Decision trees have a wide range of uses in the world of machine learning. Advanced decision trees have the highest success rate when looking at platforms like kaggle. The CART model, which forms the basis of these advanced methods, is used in this study. Then, as you can find in the other module, other advanced models will also be applied to the same data set.\n",
    "\n",
    "\n",
    "The aim is to transform the complex structures in the data set into simple decision structures. Heterogeneous data sets are divided into homogeneous subgroups according to a specified target variable. In this data set, the target variable is Attrition_Flag variable, which expresses the churn status.\n",
    "\n"
   ]
  },
  {
   "cell_type": "code",
   "execution_count": 2,
   "id": "30fe5df5",
   "metadata": {},
   "outputs": [
    {
     "name": "stdout",
     "output_type": "stream",
     "text": [
      "Requirement already satisfied: pydotplus in c:\\users\\x\\anaconda3\\lib\\site-packages (2.0.2)\n",
      "Requirement already satisfied: pyparsing>=2.0.1 in c:\\users\\x\\anaconda3\\lib\\site-packages (from pydotplus) (3.0.4)\n",
      "Requirement already satisfied: skompiler in c:\\users\\x\\anaconda3\\lib\\site-packages (0.7)\n",
      "Requirement already satisfied: scikit-learn>=0.22 in c:\\users\\x\\anaconda3\\lib\\site-packages (from skompiler) (1.2.0)\n",
      "Requirement already satisfied: threadpoolctl>=2.0.0 in c:\\users\\x\\anaconda3\\lib\\site-packages (from scikit-learn>=0.22->skompiler) (2.2.0)\n",
      "Requirement already satisfied: scipy>=1.3.2 in c:\\users\\x\\anaconda3\\lib\\site-packages (from scikit-learn>=0.22->skompiler) (1.7.1)\n",
      "Requirement already satisfied: numpy>=1.17.3 in c:\\users\\x\\anaconda3\\lib\\site-packages (from scikit-learn>=0.22->skompiler) (1.20.3)\n",
      "Requirement already satisfied: joblib>=1.1.1 in c:\\users\\x\\anaconda3\\lib\\site-packages (from scikit-learn>=0.22->skompiler) (1.2.0)\n",
      "Requirement already satisfied: astor in c:\\users\\x\\anaconda3\\lib\\site-packages (0.8.1)\n",
      "Requirement already satisfied: joblib in c:\\users\\x\\anaconda3\\lib\\site-packages (1.2.0)\n",
      "Requirement already satisfied: graphviz in c:\\users\\x\\anaconda3\\lib\\site-packages (0.20.1)\n"
     ]
    }
   ],
   "source": [
    "!pip install pydotplus\n",
    "!pip install skompiler\n",
    "!pip install astor\n",
    "!pip install joblib\n",
    "!pip install graphviz\n",
    "import graphviz\n",
    "\n",
    "import warnings\n",
    "import joblib\n",
    "import pydotplus\n",
    "import numpy as np\n",
    "import pandas as pd\n",
    "import seaborn as sns\n",
    "from matplotlib import pyplot as plt\n",
    "from sklearn.tree import DecisionTreeClassifier, export_graphviz, export_text\n",
    "from sklearn.metrics import classification_report, roc_auc_score\n",
    "from sklearn.model_selection import train_test_split, GridSearchCV, cross_validate, validation_curve\n",
    "from skompiler import skompile\n",
    "\n",
    "\n",
    "from imblearn.over_sampling import SMOTE\n",
    "\n",
    "pd.set_option('display.max_columns', None)\n",
    "pd.set_option('display.width', 500)\n",
    "\n",
    "warnings.simplefilter(action='ignore', category=Warning)"
   ]
  },
  {
   "cell_type": "code",
   "execution_count": 9,
   "id": "20b782ba",
   "metadata": {},
   "outputs": [],
   "source": [
    "data=pd.read_csv(\"customer_data.csv\")"
   ]
  },
  {
   "cell_type": "code",
   "execution_count": 10,
   "id": "e672b076",
   "metadata": {},
   "outputs": [
    {
     "data": {
      "text/html": [
       "<div>\n",
       "<style scoped>\n",
       "    .dataframe tbody tr th:only-of-type {\n",
       "        vertical-align: middle;\n",
       "    }\n",
       "\n",
       "    .dataframe tbody tr th {\n",
       "        vertical-align: top;\n",
       "    }\n",
       "\n",
       "    .dataframe thead th {\n",
       "        text-align: right;\n",
       "    }\n",
       "</style>\n",
       "<table border=\"1\" class=\"dataframe\">\n",
       "  <thead>\n",
       "    <tr style=\"text-align: right;\">\n",
       "      <th></th>\n",
       "      <th>Customer_Age</th>\n",
       "      <th>Gender</th>\n",
       "      <th>Dependent_count</th>\n",
       "      <th>Education_Level</th>\n",
       "      <th>Marital_Status</th>\n",
       "      <th>Income_Category</th>\n",
       "      <th>Card_Category</th>\n",
       "      <th>Months_on_book</th>\n",
       "      <th>Total_Relationship_Count</th>\n",
       "      <th>Months_Inactive_12_mon</th>\n",
       "      <th>Contacts_Count_12_mon</th>\n",
       "      <th>Credit_Limit</th>\n",
       "      <th>Total_Revolving_Bal</th>\n",
       "      <th>Avg_Open_To_Buy</th>\n",
       "      <th>Total_Amt_Chng_Q4_Q1</th>\n",
       "      <th>Total_Trans_Amt</th>\n",
       "      <th>Total_Trans_Ct</th>\n",
       "      <th>Total_Ct_Chng_Q4_Q1</th>\n",
       "      <th>Avg_Utilization_Ratio</th>\n",
       "      <th>Transaction_Count_per_Contact</th>\n",
       "      <th>Loyal_Customer</th>\n",
       "      <th>Creditworthiness</th>\n",
       "      <th>Cr_Util_Rate</th>\n",
       "      <th>Attrition_Flag</th>\n",
       "    </tr>\n",
       "  </thead>\n",
       "  <tbody>\n",
       "    <tr>\n",
       "      <th>0</th>\n",
       "      <td>0.0</td>\n",
       "      <td>-1.0</td>\n",
       "      <td>0.5</td>\n",
       "      <td>-1.0</td>\n",
       "      <td>1.0</td>\n",
       "      <td>0.5</td>\n",
       "      <td>0.0</td>\n",
       "      <td>0.0</td>\n",
       "      <td>0.5</td>\n",
       "      <td>-1.0</td>\n",
       "      <td>1.0</td>\n",
       "      <td>0.956476</td>\n",
       "      <td>-0.350175</td>\n",
       "      <td>0.988927</td>\n",
       "      <td>2.627193</td>\n",
       "      <td>-1.065558</td>\n",
       "      <td>-0.694444</td>\n",
       "      <td>3.911017</td>\n",
       "      <td>-0.239583</td>\n",
       "      <td>-0.500000</td>\n",
       "      <td>0.0</td>\n",
       "      <td>-0.284692</td>\n",
       "      <td>-0.238398</td>\n",
       "      <td>0</td>\n",
       "    </tr>\n",
       "    <tr>\n",
       "      <th>1</th>\n",
       "      <td>0.0</td>\n",
       "      <td>0.0</td>\n",
       "      <td>1.5</td>\n",
       "      <td>0.0</td>\n",
       "      <td>0.0</td>\n",
       "      <td>-0.5</td>\n",
       "      <td>0.0</td>\n",
       "      <td>0.0</td>\n",
       "      <td>1.0</td>\n",
       "      <td>-1.0</td>\n",
       "      <td>0.0</td>\n",
       "      <td>0.435477</td>\n",
       "      <td>-0.289123</td>\n",
       "      <td>0.459078</td>\n",
       "      <td>3.530702</td>\n",
       "      <td>-1.008702</td>\n",
       "      <td>-0.944444</td>\n",
       "      <td>12.762712</td>\n",
       "      <td>-0.147917</td>\n",
       "      <td>-0.666667</td>\n",
       "      <td>0.0</td>\n",
       "      <td>-0.618989</td>\n",
       "      <td>-0.147921</td>\n",
       "      <td>0</td>\n",
       "    </tr>\n",
       "    <tr>\n",
       "      <th>2</th>\n",
       "      <td>0.0</td>\n",
       "      <td>-1.0</td>\n",
       "      <td>0.5</td>\n",
       "      <td>0.0</td>\n",
       "      <td>1.0</td>\n",
       "      <td>1.0</td>\n",
       "      <td>0.0</td>\n",
       "      <td>0.0</td>\n",
       "      <td>0.0</td>\n",
       "      <td>-1.0</td>\n",
       "      <td>-2.0</td>\n",
       "      <td>-0.132863</td>\n",
       "      <td>-0.895439</td>\n",
       "      <td>-0.006562</td>\n",
       "      <td>8.149123</td>\n",
       "      <td>-0.778186</td>\n",
       "      <td>-1.305556</td>\n",
       "      <td>6.911017</td>\n",
       "      <td>-0.366667</td>\n",
       "      <td>-0.907407</td>\n",
       "      <td>0.0</td>\n",
       "      <td>2.281101</td>\n",
       "      <td>-0.365955</td>\n",
       "      <td>0</td>\n",
       "    </tr>\n",
       "    <tr>\n",
       "      <th>3</th>\n",
       "      <td>-1.0</td>\n",
       "      <td>0.0</td>\n",
       "      <td>1.0</td>\n",
       "      <td>-1.0</td>\n",
       "      <td>0.0</td>\n",
       "      <td>-0.5</td>\n",
       "      <td>0.0</td>\n",
       "      <td>-1.0</td>\n",
       "      <td>-0.5</td>\n",
       "      <td>2.0</td>\n",
       "      <td>-1.0</td>\n",
       "      <td>-0.145198</td>\n",
       "      <td>0.870877</td>\n",
       "      <td>-0.313785</td>\n",
       "      <td>2.934211</td>\n",
       "      <td>-1.055115</td>\n",
       "      <td>-1.305556</td>\n",
       "      <td>6.911017</td>\n",
       "      <td>1.216667</td>\n",
       "      <td>-0.537037</td>\n",
       "      <td>-1.0</td>\n",
       "      <td>-0.228374</td>\n",
       "      <td>1.216900</td>\n",
       "      <td>0</td>\n",
       "    </tr>\n",
       "    <tr>\n",
       "      <th>4</th>\n",
       "      <td>-1.0</td>\n",
       "      <td>-1.0</td>\n",
       "      <td>0.5</td>\n",
       "      <td>-1.0</td>\n",
       "      <td>1.0</td>\n",
       "      <td>0.5</td>\n",
       "      <td>0.0</td>\n",
       "      <td>-2.0</td>\n",
       "      <td>0.5</td>\n",
       "      <td>-1.0</td>\n",
       "      <td>-2.0</td>\n",
       "      <td>0.019618</td>\n",
       "      <td>-0.895439</td>\n",
       "      <td>0.145527</td>\n",
       "      <td>6.311404</td>\n",
       "      <td>-1.192419</td>\n",
       "      <td>-1.083333</td>\n",
       "      <td>7.618644</td>\n",
       "      <td>-0.366667</td>\n",
       "      <td>-1.277778</td>\n",
       "      <td>-1.0</td>\n",
       "      <td>0.723351</td>\n",
       "      <td>-0.365955</td>\n",
       "      <td>0</td>\n",
       "    </tr>\n",
       "  </tbody>\n",
       "</table>\n",
       "</div>"
      ],
      "text/plain": [
       "   Customer_Age  Gender  Dependent_count  Education_Level  Marital_Status  Income_Category  Card_Category  Months_on_book  Total_Relationship_Count  Months_Inactive_12_mon  Contacts_Count_12_mon  Credit_Limit  Total_Revolving_Bal  Avg_Open_To_Buy  Total_Amt_Chng_Q4_Q1  Total_Trans_Amt  Total_Trans_Ct  Total_Ct_Chng_Q4_Q1  Avg_Utilization_Ratio  Transaction_Count_per_Contact  Loyal_Customer  Creditworthiness  Cr_Util_Rate  Attrition_Flag\n",
       "0           0.0    -1.0              0.5             -1.0             1.0              0.5            0.0             0.0                       0.5                    -1.0                    1.0      0.956476            -0.350175         0.988927              2.627193        -1.065558       -0.694444             3.911017              -0.239583                      -0.500000             0.0         -0.284692     -0.238398               0\n",
       "1           0.0     0.0              1.5              0.0             0.0             -0.5            0.0             0.0                       1.0                    -1.0                    0.0      0.435477            -0.289123         0.459078              3.530702        -1.008702       -0.944444            12.762712              -0.147917                      -0.666667             0.0         -0.618989     -0.147921               0\n",
       "2           0.0    -1.0              0.5              0.0             1.0              1.0            0.0             0.0                       0.0                    -1.0                   -2.0     -0.132863            -0.895439        -0.006562              8.149123        -0.778186       -1.305556             6.911017              -0.366667                      -0.907407             0.0          2.281101     -0.365955               0\n",
       "3          -1.0     0.0              1.0             -1.0             0.0             -0.5            0.0            -1.0                      -0.5                     2.0                   -1.0     -0.145198             0.870877        -0.313785              2.934211        -1.055115       -1.305556             6.911017               1.216667                      -0.537037            -1.0         -0.228374      1.216900               0\n",
       "4          -1.0    -1.0              0.5             -1.0             1.0              0.5            0.0            -2.0                       0.5                    -1.0                   -2.0      0.019618            -0.895439         0.145527              6.311404        -1.192419       -1.083333             7.618644              -0.366667                      -1.277778            -1.0          0.723351     -0.365955               0"
      ]
     },
     "execution_count": 10,
     "metadata": {},
     "output_type": "execute_result"
    }
   ],
   "source": [
    "data.head()"
   ]
  },
  {
   "cell_type": "code",
   "execution_count": 11,
   "id": "81d2a6cf",
   "metadata": {},
   "outputs": [],
   "source": [
    "y = data[\"Attrition_Flag\"]\n",
    "X = data.drop([\"Attrition_Flag\"], axis=1)"
   ]
  },
  {
   "cell_type": "code",
   "execution_count": 14,
   "id": "79df224a",
   "metadata": {},
   "outputs": [],
   "source": [
    "#Train test splitting\n",
    "X_train, X_test, y_train, y_test = train_test_split(X, y, train_size=0.8, random_state=17)"
   ]
  },
  {
   "cell_type": "code",
   "execution_count": 15,
   "id": "e4c6c480",
   "metadata": {},
   "outputs": [],
   "source": [
    "#Smote \n",
    "sm = SMOTE(random_state = 17, sampling_strategy = 1.0)\n",
    "X_train, y_train = sm.fit_resample(X_train, y_train)"
   ]
  },
  {
   "cell_type": "markdown",
   "id": "65bd17fe",
   "metadata": {},
   "source": [
    "\n",
    "Unbalanced dataset is seen in classification problems and occurs when the class distributions are not close to each other. The problem is that the majority class dominates the minority class. The model created is close to the majority class, which causes poor classification of the minority class.\n",
    "\n",
    "There are various methods that we can apply to make accurate observations and balance with unbalanced data sets. One of them is the SMOTE method. This method is to create synthetic instances from minority class to avoid Overfitting.\n",
    "\n",
    "**How does it work?**\n",
    "\n",
    "1. First, a random sample from the minority class is selected.\n",
    "2.  Then, k nearest neighbors are found for this sample.\n",
    "3. One of the k nearest neighbors is randomly selected and the synthetic sample is formed by combining it with the randomly selected sample from the minority class and forming a line segment in the feature space.\n"
   ]
  },
  {
   "cell_type": "code",
   "execution_count": 16,
   "id": "0c160ecb",
   "metadata": {},
   "outputs": [
    {
     "name": "stdout",
     "output_type": "stream",
     "text": [
      "(13570, 23)\n",
      "(13570,)\n"
     ]
    }
   ],
   "source": [
    "print(X_train.shape)\n",
    "print(y_train.shape)"
   ]
  },
  {
   "cell_type": "markdown",
   "id": "599a0c59",
   "metadata": {},
   "source": [
    "## Modeling using CART\n"
   ]
  },
  {
   "cell_type": "markdown",
   "id": "2983ecdd",
   "metadata": {},
   "source": [
    "Balancing the data set with Smote is done on the train set. Therefore, here the x and y train set (with smote) is given to the model."
   ]
  },
  {
   "cell_type": "code",
   "execution_count": 17,
   "id": "daa00b93",
   "metadata": {},
   "outputs": [],
   "source": [
    "cart_model = DecisionTreeClassifier(random_state=1).fit(X_train, y_train)"
   ]
  },
  {
   "cell_type": "code",
   "execution_count": 21,
   "id": "39c7d6b8",
   "metadata": {},
   "outputs": [],
   "source": [
    "cv_results = cross_validate(cart_model,\n",
    "                            X_train, y_train,\n",
    "                            cv=5,\n",
    "                            scoring=[\"accuracy\", \"f1\", \"roc_auc\"])"
   ]
  },
  {
   "cell_type": "code",
   "execution_count": 22,
   "id": "b7cc4314",
   "metadata": {},
   "outputs": [
    {
     "data": {
      "text/plain": [
       "{'fit_time': array([0.17629552, 0.14591074, 0.14482832, 0.14063573, 0.15621924]),\n",
       " 'score_time': array([0.0080142 , 0.00700092, 0.        , 0.0156219 , 0.        ]),\n",
       " 'test_accuracy': array([0.89719971, 0.95394252, 0.95652174, 0.9605748 , 0.95431098]),\n",
       " 'test_f1': array([0.89131282, 0.95466086, 0.95721537, 0.96107676, 0.95507246]),\n",
       " 'test_roc_auc': array([0.89719971, 0.95394252, 0.95652174, 0.9605748 , 0.95431098])}"
      ]
     },
     "execution_count": 22,
     "metadata": {},
     "output_type": "execute_result"
    }
   ],
   "source": [
    "cv_results"
   ]
  },
  {
   "cell_type": "code",
   "execution_count": 19,
   "id": "5423efc0",
   "metadata": {},
   "outputs": [
    {
     "data": {
      "text/plain": [
       "0.9445099484156227"
      ]
     },
     "execution_count": 19,
     "metadata": {},
     "output_type": "execute_result"
    }
   ],
   "source": [
    "cv_results['test_accuracy'].mean()"
   ]
  },
  {
   "cell_type": "code",
   "execution_count": 20,
   "id": "e5f60bbd",
   "metadata": {},
   "outputs": [
    {
     "data": {
      "text/plain": [
       "0.9438676544370693"
      ]
     },
     "execution_count": 20,
     "metadata": {},
     "output_type": "execute_result"
    }
   ],
   "source": [
    "cv_results['test_f1'].mean()"
   ]
  },
  {
   "cell_type": "code",
   "execution_count": 23,
   "id": "7dd5e8ed",
   "metadata": {},
   "outputs": [
    {
     "data": {
      "text/plain": [
       "0.9445099484156227"
      ]
     },
     "execution_count": 23,
     "metadata": {},
     "output_type": "execute_result"
    }
   ],
   "source": [
    "cv_results['test_roc_auc'].mean()"
   ]
  },
  {
   "cell_type": "code",
   "execution_count": 24,
   "id": "bbd4cbd0",
   "metadata": {},
   "outputs": [
    {
     "name": "stdout",
     "output_type": "stream",
     "text": [
      "              precision    recall  f1-score   support\n",
      "\n",
      "           0       0.97      0.94      0.95      1715\n",
      "           1       0.71      0.81      0.76       311\n",
      "\n",
      "    accuracy                           0.92      2026\n",
      "   macro avg       0.84      0.88      0.86      2026\n",
      "weighted avg       0.93      0.92      0.92      2026\n",
      "\n"
     ]
    }
   ],
   "source": [
    "#for test\n",
    "y_pred = cart_model.predict(X_test)\n",
    "y_prob = cart_model.predict_proba(X_test)[:, 1]\n",
    "print(classification_report(y_test, y_pred))"
   ]
  },
  {
   "cell_type": "code",
   "execution_count": 25,
   "id": "6caa2f07",
   "metadata": {},
   "outputs": [
    {
     "data": {
      "text/plain": [
       "0.8770148022461167"
      ]
     },
     "execution_count": 25,
     "metadata": {},
     "output_type": "execute_result"
    }
   ],
   "source": [
    "roc_auc_score(y_test, y_prob)"
   ]
  },
  {
   "cell_type": "markdown",
   "id": "dfe6f512",
   "metadata": {},
   "source": [
    "## Hyperparameter Optimization with GridSearchCV\n"
   ]
  },
  {
   "cell_type": "code",
   "execution_count": 26,
   "id": "5a70a24d",
   "metadata": {},
   "outputs": [
    {
     "data": {
      "text/plain": [
       "{'ccp_alpha': 0.0,\n",
       " 'class_weight': None,\n",
       " 'criterion': 'gini',\n",
       " 'max_depth': None,\n",
       " 'max_features': None,\n",
       " 'max_leaf_nodes': None,\n",
       " 'min_impurity_decrease': 0.0,\n",
       " 'min_samples_leaf': 1,\n",
       " 'min_samples_split': 2,\n",
       " 'min_weight_fraction_leaf': 0.0,\n",
       " 'random_state': 1,\n",
       " 'splitter': 'best'}"
      ]
     },
     "execution_count": 26,
     "metadata": {},
     "output_type": "execute_result"
    }
   ],
   "source": [
    "cart_model.get_params()"
   ]
  },
  {
   "cell_type": "markdown",
   "id": "c59a8525",
   "metadata": {},
   "source": [
    "Max_depth is a parameter about how deep a tree should be. Therefore, it is a parameter that directly affects the division process and therefore the overfit.\n",
    "Min_samples_split specifies the minimum number of samples required to split an internal node.\n",
    "\n"
   ]
  },
  {
   "cell_type": "code",
   "execution_count": 34,
   "id": "f3ea741c",
   "metadata": {},
   "outputs": [],
   "source": [
    "cart_params = {'max_depth': range(1, 11),\n",
    "               \"min_samples_split\": range(2, 20),\n",
    "              'min_samples_leaf' : range(1,10)}"
   ]
  },
  {
   "cell_type": "code",
   "execution_count": 35,
   "id": "210e9a9d",
   "metadata": {},
   "outputs": [
    {
     "name": "stdout",
     "output_type": "stream",
     "text": [
      "Fitting 5 folds for each of 1620 candidates, totalling 8100 fits\n"
     ]
    }
   ],
   "source": [
    "cart_best_grid = GridSearchCV(cart_model,\n",
    "                              cart_params,\n",
    "                              cv=5,\n",
    "                              n_jobs=-1,\n",
    "                              verbose=1).fit(X_train, y_train)"
   ]
  },
  {
   "cell_type": "code",
   "execution_count": 36,
   "id": "5acd7061",
   "metadata": {},
   "outputs": [
    {
     "data": {
      "text/plain": [
       "{'max_depth': 10, 'min_samples_leaf': 1, 'min_samples_split': 6}"
      ]
     },
     "execution_count": 36,
     "metadata": {},
     "output_type": "execute_result"
    }
   ],
   "source": [
    "cart_best_grid.best_params_"
   ]
  },
  {
   "cell_type": "code",
   "execution_count": 37,
   "id": "32b65154",
   "metadata": {},
   "outputs": [
    {
     "data": {
      "text/plain": [
       "0.9476787030213707"
      ]
     },
     "execution_count": 37,
     "metadata": {},
     "output_type": "execute_result"
    }
   ],
   "source": [
    "cart_best_grid.best_score_"
   ]
  },
  {
   "cell_type": "markdown",
   "id": "c543f4ee",
   "metadata": {},
   "source": [
    "##  Final Model"
   ]
  },
  {
   "cell_type": "code",
   "execution_count": 38,
   "id": "17b97d30",
   "metadata": {},
   "outputs": [
    {
     "data": {
      "text/plain": [
       "{'ccp_alpha': 0.0,\n",
       " 'class_weight': None,\n",
       " 'criterion': 'gini',\n",
       " 'max_depth': 10,\n",
       " 'max_features': None,\n",
       " 'max_leaf_nodes': None,\n",
       " 'min_impurity_decrease': 0.0,\n",
       " 'min_samples_leaf': 1,\n",
       " 'min_samples_split': 6,\n",
       " 'min_weight_fraction_leaf': 0.0,\n",
       " 'random_state': 17,\n",
       " 'splitter': 'best'}"
      ]
     },
     "execution_count": 38,
     "metadata": {},
     "output_type": "execute_result"
    }
   ],
   "source": [
    "cart_final = DecisionTreeClassifier(**cart_best_grid.best_params_, random_state=17).fit(X_train, y_train)\n",
    "cart_final.get_params()"
   ]
  },
  {
   "cell_type": "code",
   "execution_count": 39,
   "id": "2b00a6ee",
   "metadata": {},
   "outputs": [],
   "source": [
    "cart_final = cart_model.set_params(**cart_best_grid.best_params_).fit(X_train, y_train)"
   ]
  },
  {
   "cell_type": "code",
   "execution_count": 40,
   "id": "d9ccae5e",
   "metadata": {},
   "outputs": [],
   "source": [
    "cv_results = cross_validate(cart_final,\n",
    "                            X_train, y_train,\n",
    "                            cv=5,\n",
    "                            scoring=[\"accuracy\", \"f1\", \"roc_auc\"])"
   ]
  },
  {
   "cell_type": "code",
   "execution_count": 41,
   "id": "9ceb7bdd",
   "metadata": {},
   "outputs": [
    {
     "data": {
      "text/plain": [
       "0.9476787030213707"
      ]
     },
     "execution_count": 41,
     "metadata": {},
     "output_type": "execute_result"
    }
   ],
   "source": [
    "cv_results['test_accuracy'].mean()"
   ]
  },
  {
   "cell_type": "code",
   "execution_count": 42,
   "id": "ef299c6b",
   "metadata": {},
   "outputs": [
    {
     "data": {
      "text/plain": [
       "0.947305953577627"
      ]
     },
     "execution_count": 42,
     "metadata": {},
     "output_type": "execute_result"
    }
   ],
   "source": [
    "cv_results['test_f1'].mean()"
   ]
  },
  {
   "cell_type": "code",
   "execution_count": 43,
   "id": "5605c89b",
   "metadata": {},
   "outputs": [
    {
     "data": {
      "text/plain": [
       "0.9554770183697731"
      ]
     },
     "execution_count": 43,
     "metadata": {},
     "output_type": "execute_result"
    }
   ],
   "source": [
    "cv_results['test_roc_auc'].mean()"
   ]
  },
  {
   "cell_type": "code",
   "execution_count": 44,
   "id": "30340d39",
   "metadata": {},
   "outputs": [
    {
     "name": "stdout",
     "output_type": "stream",
     "text": [
      "              precision    recall  f1-score   support\n",
      "\n",
      "           0       0.97      0.94      0.96      1715\n",
      "           1       0.73      0.84      0.78       311\n",
      "\n",
      "    accuracy                           0.93      2026\n",
      "   macro avg       0.85      0.89      0.87      2026\n",
      "weighted avg       0.93      0.93      0.93      2026\n",
      "\n"
     ]
    }
   ],
   "source": [
    "y_pred = cart_final.predict(X_test)\n",
    "y_prob = cart_final.predict_proba(X_test)[:, 1]\n",
    "print(classification_report(y_test, y_pred))"
   ]
  },
  {
   "cell_type": "code",
   "execution_count": 45,
   "id": "693c558e",
   "metadata": {},
   "outputs": [
    {
     "data": {
      "text/plain": [
       "0.8916754942675278"
      ]
     },
     "execution_count": 45,
     "metadata": {},
     "output_type": "execute_result"
    }
   ],
   "source": [
    "roc_auc_score(y_test, y_prob)"
   ]
  },
  {
   "cell_type": "markdown",
   "id": "c09372f4",
   "metadata": {},
   "source": [
    "## Feature Importance"
   ]
  },
  {
   "cell_type": "code",
   "execution_count": 47,
   "id": "902d881d",
   "metadata": {},
   "outputs": [
    {
     "data": {
      "text/plain": [
       "array([1.20875260e-02, 3.53064558e-03, 6.98721006e-03, 1.00502499e-03,\n",
       "       1.13965222e-02, 2.77927590e-03, 2.10463038e-03, 3.69371460e-05,\n",
       "       7.11417746e-02, 1.21779961e-02, 1.20076192e-02, 1.29724370e-03,\n",
       "       1.09107552e-01, 1.43126395e-02, 2.08454734e-02, 1.67590955e-01,\n",
       "       4.75471117e-01, 6.07791440e-02, 1.89051856e-03, 5.81340825e-03,\n",
       "       0.00000000e+00, 6.47513948e-03, 1.16164655e-03])"
      ]
     },
     "execution_count": 47,
     "metadata": {},
     "output_type": "execute_result"
    }
   ],
   "source": [
    "cart_final.feature_importances_"
   ]
  },
  {
   "cell_type": "code",
   "execution_count": 48,
   "id": "a9b14cc0",
   "metadata": {},
   "outputs": [],
   "source": [
    "def plot_importance(model, features, num=len(X), save=False):\n",
    "    feature_imp = pd.DataFrame({'Value': model.feature_importances_, 'Feature': features.columns})\n",
    "    plt.figure(figsize=(10, 10))\n",
    "    sns.set(font_scale=1)\n",
    "    sns.barplot(x=\"Value\", y=\"Feature\", data=feature_imp.sort_values(by=\"Value\",\n",
    "                                                                     ascending=False)[0:num])\n",
    "    plt.title('Features')\n",
    "    plt.tight_layout()\n",
    "    plt.show()\n",
    "    if save:\n",
    "        plt.savefig('importances.png')"
   ]
  },
  {
   "cell_type": "code",
   "execution_count": 49,
   "id": "306c82eb",
   "metadata": {},
   "outputs": [
    {
     "data": {
      "image/png": "[encoded data removed]",
      "text/plain": [
       "<Figure size 720x720 with 1 Axes>"
      ]
     },
     "metadata": {
      "needs_background": "light"
     },
     "output_type": "display_data"
    }
   ],
   "source": [
    "plot_importance(cart_final, X, num=20)"
   ]
  }
 ],
 "metadata": {
  "kernelspec": {
   "display_name": "Python 3 (ipykernel)",
   "language": "python",
   "name": "python3"
  },
  "language_info": {
   "codemirror_mode": {
    "name": "ipython",
    "version": 3
   },
   "file_extension": ".py",
   "mimetype": "text/x-python",
   "name": "python",
   "nbconvert_exporter": "python",
   "pygments_lexer": "ipython3",
   "version": "3.9.7"
  }
 },
 "nbformat": 4,
 "nbformat_minor": 5
}
