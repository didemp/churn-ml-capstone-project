{
 "cells": [
  {
   "cell_type": "code",
   "execution_count": 1,
   "id": "886ac52f",
   "metadata": {},
   "outputs": [
    {
     "name": "stdout",
     "output_type": "stream",
     "text": [
      "Requirement already satisfied: lightgbm in c:\\users\\x\\anaconda3\\lib\\site-packages (3.3.4)\n",
      "Requirement already satisfied: wheel in c:\\users\\x\\anaconda3\\lib\\site-packages (from lightgbm) (0.37.1)\n",
      "Requirement already satisfied: scikit-learn!=0.22.0 in c:\\users\\x\\anaconda3\\lib\\site-packages (from lightgbm) (1.2.0)\n",
      "Requirement already satisfied: scipy in c:\\users\\x\\anaconda3\\lib\\site-packages (from lightgbm) (1.9.3)\n",
      "Requirement already satisfied: numpy in c:\\users\\x\\anaconda3\\lib\\site-packages (from lightgbm) (1.23.5)\n",
      "Requirement already satisfied: joblib>=1.1.1 in c:\\users\\x\\anaconda3\\lib\\site-packages (from scikit-learn!=0.22.0->lightgbm) (1.2.0)\n",
      "Requirement already satisfied: threadpoolctl>=2.0.0 in c:\\users\\x\\anaconda3\\lib\\site-packages (from scikit-learn!=0.22.0->lightgbm) (2.2.0)\n",
      "Requirement already satisfied: xgboost in c:\\users\\x\\anaconda3\\lib\\site-packages (1.7.3)\n",
      "Requirement already satisfied: scipy in c:\\users\\x\\anaconda3\\lib\\site-packages (from xgboost) (1.9.3)\n",
      "Requirement already satisfied: numpy in c:\\users\\x\\anaconda3\\lib\\site-packages (from xgboost) (1.23.5)\n"
     ]
    }
   ],
   "source": [
    "import joblib\n",
    "import pandas as pd\n",
    "import seaborn as sns\n",
    "from matplotlib import pyplot as plt\n",
    "from sklearn.ensemble import RandomForestClassifier, VotingClassifier\n",
    "from imblearn.over_sampling import SMOTE\n",
    "\n",
    "from sklearn.model_selection import cross_validate, GridSearchCV, train_test_split\n",
    "\n",
    "from sklearn.metrics import classification_report, roc_auc_score\n",
    "\n",
    "!pip install lightgbm\n",
    "!pip install xgboost\n",
    "\n",
    "from xgboost import XGBClassifier\n",
    "from lightgbm import LGBMClassifier\n",
    "\n",
    "pd.set_option('display.max_columns', None)\n",
    "pd.set_option('display.width', 500)"
   ]
  },
  {
   "cell_type": "code",
   "execution_count": 2,
   "id": "8ca9c060",
   "metadata": {},
   "outputs": [],
   "source": [
    "data=pd.read_csv(\"customer_data.csv\")"
   ]
  },
  {
   "cell_type": "code",
   "execution_count": 3,
   "id": "f4f689f1",
   "metadata": {},
   "outputs": [
    {
     "data": {
      "text/html": [
       "<div>\n",
       "<style scoped>\n",
       "    .dataframe tbody tr th:only-of-type {\n",
       "        vertical-align: middle;\n",
       "    }\n",
       "\n",
       "    .dataframe tbody tr th {\n",
       "        vertical-align: top;\n",
       "    }\n",
       "\n",
       "    .dataframe thead th {\n",
       "        text-align: right;\n",
       "    }\n",
       "</style>\n",
       "<table border=\"1\" class=\"dataframe\">\n",
       "  <thead>\n",
       "    <tr style=\"text-align: right;\">\n",
       "      <th></th>\n",
       "      <th>Customer_Age</th>\n",
       "      <th>Gender</th>\n",
       "      <th>Dependent_count</th>\n",
       "      <th>Education_Level</th>\n",
       "      <th>Marital_Status</th>\n",
       "      <th>Income_Category</th>\n",
       "      <th>Card_Category</th>\n",
       "      <th>Months_on_book</th>\n",
       "      <th>Total_Relationship_Count</th>\n",
       "      <th>Months_Inactive_12_mon</th>\n",
       "      <th>Contacts_Count_12_mon</th>\n",
       "      <th>Credit_Limit</th>\n",
       "      <th>Total_Revolving_Bal</th>\n",
       "      <th>Avg_Open_To_Buy</th>\n",
       "      <th>Total_Amt_Chng_Q4_Q1</th>\n",
       "      <th>Total_Trans_Amt</th>\n",
       "      <th>Total_Trans_Ct</th>\n",
       "      <th>Total_Ct_Chng_Q4_Q1</th>\n",
       "      <th>Avg_Utilization_Ratio</th>\n",
       "      <th>Transaction_Count_per_Contact</th>\n",
       "      <th>Loyal_Customer</th>\n",
       "      <th>Creditworthiness</th>\n",
       "      <th>Cr_Util_Rate</th>\n",
       "      <th>Attrition_Flag</th>\n",
       "    </tr>\n",
       "  </thead>\n",
       "  <tbody>\n",
       "    <tr>\n",
       "      <th>0</th>\n",
       "      <td>0.0</td>\n",
       "      <td>-1.0</td>\n",
       "      <td>0.5</td>\n",
       "      <td>-1.0</td>\n",
       "      <td>1.0</td>\n",
       "      <td>0.5</td>\n",
       "      <td>0.0</td>\n",
       "      <td>0.0</td>\n",
       "      <td>0.5</td>\n",
       "      <td>-1.0</td>\n",
       "      <td>1.0</td>\n",
       "      <td>0.956476</td>\n",
       "      <td>-0.350175</td>\n",
       "      <td>0.988927</td>\n",
       "      <td>2.627193</td>\n",
       "      <td>-1.065558</td>\n",
       "      <td>-0.694444</td>\n",
       "      <td>3.911017</td>\n",
       "      <td>-0.239583</td>\n",
       "      <td>-0.500000</td>\n",
       "      <td>0.0</td>\n",
       "      <td>-0.284692</td>\n",
       "      <td>-0.238398</td>\n",
       "      <td>0</td>\n",
       "    </tr>\n",
       "    <tr>\n",
       "      <th>1</th>\n",
       "      <td>0.0</td>\n",
       "      <td>0.0</td>\n",
       "      <td>1.5</td>\n",
       "      <td>0.0</td>\n",
       "      <td>0.0</td>\n",
       "      <td>-0.5</td>\n",
       "      <td>0.0</td>\n",
       "      <td>0.0</td>\n",
       "      <td>1.0</td>\n",
       "      <td>-1.0</td>\n",
       "      <td>0.0</td>\n",
       "      <td>0.435477</td>\n",
       "      <td>-0.289123</td>\n",
       "      <td>0.459078</td>\n",
       "      <td>3.530702</td>\n",
       "      <td>-1.008702</td>\n",
       "      <td>-0.944444</td>\n",
       "      <td>12.762712</td>\n",
       "      <td>-0.147917</td>\n",
       "      <td>-0.666667</td>\n",
       "      <td>0.0</td>\n",
       "      <td>-0.618989</td>\n",
       "      <td>-0.147921</td>\n",
       "      <td>0</td>\n",
       "    </tr>\n",
       "    <tr>\n",
       "      <th>2</th>\n",
       "      <td>0.0</td>\n",
       "      <td>-1.0</td>\n",
       "      <td>0.5</td>\n",
       "      <td>0.0</td>\n",
       "      <td>1.0</td>\n",
       "      <td>1.0</td>\n",
       "      <td>0.0</td>\n",
       "      <td>0.0</td>\n",
       "      <td>0.0</td>\n",
       "      <td>-1.0</td>\n",
       "      <td>-2.0</td>\n",
       "      <td>-0.132863</td>\n",
       "      <td>-0.895439</td>\n",
       "      <td>-0.006562</td>\n",
       "      <td>8.149123</td>\n",
       "      <td>-0.778186</td>\n",
       "      <td>-1.305556</td>\n",
       "      <td>6.911017</td>\n",
       "      <td>-0.366667</td>\n",
       "      <td>-0.907407</td>\n",
       "      <td>0.0</td>\n",
       "      <td>2.281101</td>\n",
       "      <td>-0.365955</td>\n",
       "      <td>0</td>\n",
       "    </tr>\n",
       "    <tr>\n",
       "      <th>3</th>\n",
       "      <td>-1.0</td>\n",
       "      <td>0.0</td>\n",
       "      <td>1.0</td>\n",
       "      <td>-1.0</td>\n",
       "      <td>0.0</td>\n",
       "      <td>-0.5</td>\n",
       "      <td>0.0</td>\n",
       "      <td>-1.0</td>\n",
       "      <td>-0.5</td>\n",
       "      <td>2.0</td>\n",
       "      <td>-1.0</td>\n",
       "      <td>-0.145198</td>\n",
       "      <td>0.870877</td>\n",
       "      <td>-0.313785</td>\n",
       "      <td>2.934211</td>\n",
       "      <td>-1.055115</td>\n",
       "      <td>-1.305556</td>\n",
       "      <td>6.911017</td>\n",
       "      <td>1.216667</td>\n",
       "      <td>-0.537037</td>\n",
       "      <td>-1.0</td>\n",
       "      <td>-0.228374</td>\n",
       "      <td>1.216900</td>\n",
       "      <td>0</td>\n",
       "    </tr>\n",
       "    <tr>\n",
       "      <th>4</th>\n",
       "      <td>-1.0</td>\n",
       "      <td>-1.0</td>\n",
       "      <td>0.5</td>\n",
       "      <td>-1.0</td>\n",
       "      <td>1.0</td>\n",
       "      <td>0.5</td>\n",
       "      <td>0.0</td>\n",
       "      <td>-2.0</td>\n",
       "      <td>0.5</td>\n",
       "      <td>-1.0</td>\n",
       "      <td>-2.0</td>\n",
       "      <td>0.019618</td>\n",
       "      <td>-0.895439</td>\n",
       "      <td>0.145527</td>\n",
       "      <td>6.311404</td>\n",
       "      <td>-1.192419</td>\n",
       "      <td>-1.083333</td>\n",
       "      <td>7.618644</td>\n",
       "      <td>-0.366667</td>\n",
       "      <td>-1.277778</td>\n",
       "      <td>-1.0</td>\n",
       "      <td>0.723351</td>\n",
       "      <td>-0.365955</td>\n",
       "      <td>0</td>\n",
       "    </tr>\n",
       "  </tbody>\n",
       "</table>\n",
       "</div>"
      ],
      "text/plain": [
       "   Customer_Age  Gender  Dependent_count  Education_Level  Marital_Status  Income_Category  Card_Category  Months_on_book  Total_Relationship_Count  Months_Inactive_12_mon  Contacts_Count_12_mon  Credit_Limit  Total_Revolving_Bal  Avg_Open_To_Buy  Total_Amt_Chng_Q4_Q1  Total_Trans_Amt  Total_Trans_Ct  Total_Ct_Chng_Q4_Q1  Avg_Utilization_Ratio  Transaction_Count_per_Contact  Loyal_Customer  Creditworthiness  Cr_Util_Rate  Attrition_Flag\n",
       "0           0.0    -1.0              0.5             -1.0             1.0              0.5            0.0             0.0                       0.5                    -1.0                    1.0      0.956476            -0.350175         0.988927              2.627193        -1.065558       -0.694444             3.911017              -0.239583                      -0.500000             0.0         -0.284692     -0.238398               0\n",
       "1           0.0     0.0              1.5              0.0             0.0             -0.5            0.0             0.0                       1.0                    -1.0                    0.0      0.435477            -0.289123         0.459078              3.530702        -1.008702       -0.944444            12.762712              -0.147917                      -0.666667             0.0         -0.618989     -0.147921               0\n",
       "2           0.0    -1.0              0.5              0.0             1.0              1.0            0.0             0.0                       0.0                    -1.0                   -2.0     -0.132863            -0.895439        -0.006562              8.149123        -0.778186       -1.305556             6.911017              -0.366667                      -0.907407             0.0          2.281101     -0.365955               0\n",
       "3          -1.0     0.0              1.0             -1.0             0.0             -0.5            0.0            -1.0                      -0.5                     2.0                   -1.0     -0.145198             0.870877        -0.313785              2.934211        -1.055115       -1.305556             6.911017               1.216667                      -0.537037            -1.0         -0.228374      1.216900               0\n",
       "4          -1.0    -1.0              0.5             -1.0             1.0              0.5            0.0            -2.0                       0.5                    -1.0                   -2.0      0.019618            -0.895439         0.145527              6.311404        -1.192419       -1.083333             7.618644              -0.366667                      -1.277778            -1.0          0.723351     -0.365955               0"
      ]
     },
     "execution_count": 3,
     "metadata": {},
     "output_type": "execute_result"
    }
   ],
   "source": [
    "data.head()"
   ]
  },
  {
   "cell_type": "code",
   "execution_count": 4,
   "id": "feb8b574",
   "metadata": {},
   "outputs": [],
   "source": [
    "y = data[\"Attrition_Flag\"]\n",
    "X = data.drop([\"Attrition_Flag\"], axis=1)"
   ]
  },
  {
   "cell_type": "code",
   "execution_count": 26,
   "id": "e3695885",
   "metadata": {},
   "outputs": [],
   "source": [
    "def models(X, y, scoring=\"roc_auc\"):\n",
    "    print(\"Models....\")\n",
    "    classifiers = [(\"RF\", RandomForestClassifier()),\n",
    "                   ('XGBoost', XGBClassifier()),\n",
    "                   ('LightGBM', LGBMClassifier()),\n",
    "                   ]\n",
    "\n",
    "    for name, classifier in classifiers:\n",
    "        cv_results = cross_validate(classifier, X, y, cv=3, scoring=scoring)\n",
    "        print(f\"{scoring}: {round(cv_results['test_score'].mean(), 4)} ({name}) \")"
   ]
  },
  {
   "cell_type": "code",
   "execution_count": 27,
   "id": "78d02658",
   "metadata": {},
   "outputs": [
    {
     "name": "stdout",
     "output_type": "stream",
     "text": [
      "Models....\n",
      "accuracy: 0.8599 (RF) \n",
      "accuracy: 0.8857 (XGBoost) \n",
      "accuracy: 0.8875 (LightGBM) \n"
     ]
    }
   ],
   "source": [
    "models(X, y, scoring=\"accuracy\")"
   ]
  },
  {
   "cell_type": "code",
   "execution_count": 32,
   "id": "e7ce6579",
   "metadata": {},
   "outputs": [],
   "source": [
    "rf_params = {\"max_depth\": [5, 8,15,20, None],\n",
    "             \"max_features\": [3, 5, 7,9, \"auto\"],\n",
    "             \"min_samples_split\": [2, 5, 8, 15, 20],\n",
    "             \"n_estimators\": [100, 200,300, 500]}\n",
    "\n",
    "xgboost_params = {\"learning_rate\": [0.1, 0.01],\n",
    "                  \"max_depth\": [5, 8],\n",
    "                  \"n_estimators\": [100, 200, 500, 1000],\n",
    "                  \"colsample_bytree\": [0.7, 1]}\n",
    "\n",
    "lightgbm_params = {\"learning_rate\": [0.01, 0.1],\n",
    "               \"n_estimators\": [100, 300, 500, 1000],\n",
    "               \"colsample_bytree\": [0.5, 0.7, 1]}"
   ]
  },
  {
   "cell_type": "code",
   "execution_count": 33,
   "id": "bc251346",
   "metadata": {},
   "outputs": [],
   "source": [
    "classifiers = [(\"RF\", RandomForestClassifier(), rf_params),\n",
    "               ('XGBoost', XGBClassifier(), xgboost_params),\n",
    "               ('LightGBM', LGBMClassifier(), lightgbm_params)]\n"
   ]
  },
  {
   "cell_type": "code",
   "execution_count": 34,
   "id": "f64083b2",
   "metadata": {},
   "outputs": [],
   "source": [
    "def hyperparameter_optimization(X, y, cv=3, scoring=\"roc_auc\"):\n",
    "    print(\"Hyperparameter Optimization....\")\n",
    "    best_models = {}\n",
    "    for name, classifier, params in classifiers:\n",
    "        print(f\"########## {name} ##########\")\n",
    "        cv_results = cross_validate(classifier, X, y, cv=cv, scoring=scoring)\n",
    "        print(f\"{scoring} (Before): {round(cv_results['test_score'].mean(), 4)}\")\n",
    "\n",
    "        gs_best = GridSearchCV(classifier, params, cv=cv, n_jobs=-1, verbose=False).fit(X, y)\n",
    "        final_model = classifier.set_params(**gs_best.best_params_)\n",
    "\n",
    "        cv_results = cross_validate(final_model, X, y, cv=cv, scoring=scoring)\n",
    "        print(f\"{scoring} (After): {round(cv_results['test_score'].mean(), 4)}\")\n",
    "        print(f\"{name} best params: {gs_best.best_params_}\", end=\"\\n\\n\")\n",
    "        best_models[name] = final_model\n",
    "    return best_models\n"
   ]
  },
  {
   "cell_type": "code",
   "execution_count": 35,
   "id": "79aaa512",
   "metadata": {},
   "outputs": [
    {
     "name": "stdout",
     "output_type": "stream",
     "text": [
      "Hyperparameter Optimization....\n",
      "########## RF ##########\n",
      "roc_auc (Before): 0.8658\n",
      "roc_auc (After): 0.8731\n",
      "RF best params: {'max_depth': 15, 'max_features': 9, 'min_samples_split': 2, 'n_estimators': 100}\n",
      "\n",
      "########## XGBoost ##########\n",
      "roc_auc (Before): 0.8955\n",
      "roc_auc (After): 0.8974\n",
      "XGBoost best params: {'colsample_bytree': 1, 'learning_rate': 0.1, 'max_depth': 5, 'n_estimators': 1000}\n",
      "\n",
      "########## LightGBM ##########\n",
      "roc_auc (Before): 0.9051\n",
      "roc_auc (After): 0.8989\n",
      "LightGBM best params: {'colsample_bytree': 0.7, 'learning_rate': 0.1, 'n_estimators': 500}\n",
      "\n"
     ]
    }
   ],
   "source": [
    "best_models = hyperparameter_optimization(X, y)"
   ]
  },
  {
   "cell_type": "markdown",
   "id": "4c25eb13",
   "metadata": {},
   "source": [
    "## Ensemble Learning"
   ]
  },
  {
   "cell_type": "code",
   "execution_count": 36,
   "id": "ffc9b8e7",
   "metadata": {},
   "outputs": [],
   "source": [
    "def voting_classifier(best_models, X, y):\n",
    "    print(\"Voting Classifier...\")\n",
    "\n",
    "    voting_clf = VotingClassifier(estimators=[('XGBoost', best_models['XGBoost']),\n",
    "                                              ('RF', best_models[\"RF\"]),\n",
    "                                              ('LightGBM', best_models[\"LightGBM\"])],\n",
    "                                  voting='soft').fit(X, y)\n",
    "\n",
    "    cv_results = cross_validate(voting_clf, X, y, cv=3, scoring=[\"accuracy\", \"f1\", \"roc_auc\"])\n",
    "    print(f\"Accuracy: {cv_results['test_accuracy'].mean()}\")\n",
    "    print(f\"F1Score: {cv_results['test_f1'].mean()}\")\n",
    "    print(f\"ROC_AUC: {cv_results['test_roc_auc'].mean()}\")\n",
    "    return voting_clf"
   ]
  },
  {
   "cell_type": "code",
   "execution_count": 37,
   "id": "bb7924fd",
   "metadata": {},
   "outputs": [
    {
     "name": "stdout",
     "output_type": "stream",
     "text": [
      "Voting Classifier...\n",
      "Accuracy: 0.8901960973611841\n",
      "F1Score: 0.6913498287708686\n",
      "ROC_AUC: 0.8824864435836633\n"
     ]
    }
   ],
   "source": [
    "voting_clf = voting_classifier(best_models, X, y)"
   ]
  },
  {
   "cell_type": "markdown",
   "id": "01e57e51",
   "metadata": {},
   "source": [
    "In order to increase success, hyperparameter optimization can be done again at wider intervals.\n",
    "\n",
    "In order to improve the f1 score, the unbalanced data set can be balanced and the model can be established again."
   ]
  },
  {
   "cell_type": "markdown",
   "id": "d4c2b983",
   "metadata": {},
   "source": [
    "### SMOTE"
   ]
  },
  {
   "cell_type": "code",
   "execution_count": 38,
   "id": "af7c3e03",
   "metadata": {},
   "outputs": [],
   "source": [
    "X_train, X_test, y_train, y_test = train_test_split(X, y, train_size=0.8, random_state=1)"
   ]
  },
  {
   "cell_type": "code",
   "execution_count": 39,
   "id": "32cc3548",
   "metadata": {},
   "outputs": [],
   "source": [
    "sm = SMOTE(random_state = 1, sampling_strategy = 1.0)\n",
    "X_train, y_train = sm.fit_resample(X_train, y_train)"
   ]
  },
  {
   "cell_type": "code",
   "execution_count": 40,
   "id": "1bb7af2f",
   "metadata": {},
   "outputs": [],
   "source": [
    " classifiers = [(\"RF\", RandomForestClassifier()),\n",
    "                ('XGBoost', XGBClassifier()),\n",
    "                ('LightGBM', LGBMClassifier()),\n",
    "                ]"
   ]
  },
  {
   "cell_type": "code",
   "execution_count": 47,
   "id": "ea2f579c",
   "metadata": {},
   "outputs": [
    {
     "name": "stdout",
     "output_type": "stream",
     "text": [
      "RF 0.9619940769990128\n",
      "XGBoost 0.9674234945705824\n",
      "LightGBM 0.9718657453109576\n"
     ]
    }
   ],
   "source": [
    "from sklearn.metrics import accuracy_score\n",
    "\n",
    "predictions_df = pd.DataFrame()\n",
    "predictions_df['actual_labels'] = y_test\n",
    "\n",
    "for name,classifier in classifiers:\n",
    "    classifier = classifier\n",
    "    classifier.fit(X_train, y_train)\n",
    "    predictions = classifier.predict(X_test)\n",
    "    predictions_df[name.strip(\" :\")] = predictions\n",
    "    print(name, accuracy_score(y_test, predictions))\n",
    "    "
   ]
  },
  {
   "cell_type": "code",
   "execution_count": 46,
   "id": "039a3356",
   "metadata": {},
   "outputs": [
    {
     "name": "stdout",
     "output_type": "stream",
     "text": [
      "0.9679170779861797\n"
     ]
    }
   ],
   "source": [
    "clf1 = RandomForestClassifier()\n",
    "clf2 = XGBClassifier()\n",
    "clf3 = LGBMClassifier()\n",
    "eclf1 = VotingClassifier(estimators=[('RF', clf1), ('XGBoost', clf2), ('LightGBM', clf3)], voting='soft')\n",
    "eclf1.fit(X_train, y_train)\n",
    "predictions = eclf1.predict(X_test)\n",
    "print(accuracy_score(y_test, predictions))\n",
    "##REF: https://www.kaggle.com/code/nilanml/telecom-customer-churn-voting-80-1-accuracy"
   ]
  },
  {
   "cell_type": "code",
   "execution_count": 49,
   "id": "68be82b8",
   "metadata": {},
   "outputs": [
    {
     "name": "stdout",
     "output_type": "stream",
     "text": [
      "0.9147982062780268\n"
     ]
    }
   ],
   "source": [
    "from sklearn.metrics import f1_score\n",
    "print(f1_score(y_test, predictions))"
   ]
  },
  {
   "cell_type": "markdown",
   "id": "bfa9077b",
   "metadata": {},
   "source": [
    "After the data is balanced, our f1 score value has also increased.\n",
    "\n",
    "Estimation was carried out by asking 3 models. As a result of these 3 models, the f1 score is 0.914."
   ]
  }
 ],
 "metadata": {
  "kernelspec": {
   "display_name": "Python 3 (ipykernel)",
   "language": "python",
   "name": "python3"
  },
  "language_info": {
   "codemirror_mode": {
    "name": "ipython",
    "version": 3
   },
   "file_extension": ".py",
   "mimetype": "text/x-python",
   "name": "python",
   "nbconvert_exporter": "python",
   "pygments_lexer": "ipython3",
   "version": "3.9.7"
  }
 },
 "nbformat": 4,
 "nbformat_minor": 5
}
