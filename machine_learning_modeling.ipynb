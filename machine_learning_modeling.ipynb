{
 "cells": [
  {
   "cell_type": "markdown",
   "id": "e78e3c15",
   "metadata": {},
   "source": [
    "# Modeling\n",
    "\n",
    "Modeling in machine learning refers to the process of creating a mathematical representation of a system or phenomenon. This representation, called a model, is then used to make predictions or decisions about new data. There are many types of models, such as linear regression, decision trees, and neural networks, each with their own strengths and weaknesses.\n",
    "\n",
    "When creating a model, it is important to be careful about overfitting, which occurs when a model is too complex and fits the training data too well, but performs poorly on new data. It's also important to be careful about underfitting, which occurs when a model is too simple and doesn't capture the complexity of the system or phenomenon it is trying to represent. Additionally, it's important to be mindful of the potential for bias in the data used to train the model, as well as in the model itself."
   ]
  },
  {
   "cell_type": "code",
   "execution_count": 1,
   "id": "b5cb0a9b",
   "metadata": {},
   "outputs": [],
   "source": [
    "import warnings\n",
    "warnings.filterwarnings(\"ignore\")\n",
    "\n",
    "import random\n",
    "import numpy as np\n",
    "import pandas as pd\n",
    "import seaborn as sns\n",
    "import matplotlib.pyplot as plt\n",
    "\n",
    "from sklearn.metrics import classification_report, confusion_matrix\n",
    "from sklearn.metrics import accuracy_score\n",
    "from sklearn.model_selection import train_test_split\n",
    "from imblearn.over_sampling import SMOTE\n",
    "\n",
    "import xgboost as xgb"
   ]
  },
  {
   "cell_type": "code",
   "execution_count": 2,
   "id": "ee35f563",
   "metadata": {},
   "outputs": [
    {
     "data": {
      "text/html": [
       "<div>\n",
       "<style scoped>\n",
       "    .dataframe tbody tr th:only-of-type {\n",
       "        vertical-align: middle;\n",
       "    }\n",
       "\n",
       "    .dataframe tbody tr th {\n",
       "        vertical-align: top;\n",
       "    }\n",
       "\n",
       "    .dataframe thead th {\n",
       "        text-align: right;\n",
       "    }\n",
       "</style>\n",
       "<table border=\"1\" class=\"dataframe\">\n",
       "  <thead>\n",
       "    <tr style=\"text-align: right;\">\n",
       "      <th></th>\n",
       "      <th>Customer_Age</th>\n",
       "      <th>Gender</th>\n",
       "      <th>Dependent_count</th>\n",
       "      <th>Education_Level</th>\n",
       "      <th>Marital_Status</th>\n",
       "      <th>Income_Category</th>\n",
       "      <th>Card_Category</th>\n",
       "      <th>Months_on_book</th>\n",
       "      <th>Total_Relationship_Count</th>\n",
       "      <th>Months_Inactive_12_mon</th>\n",
       "      <th>...</th>\n",
       "      <th>Total_Amt_Chng_Q4_Q1</th>\n",
       "      <th>Total_Trans_Amt</th>\n",
       "      <th>Total_Trans_Ct</th>\n",
       "      <th>Total_Ct_Chng_Q4_Q1</th>\n",
       "      <th>Avg_Utilization_Ratio</th>\n",
       "      <th>Transaction_Count_per_Contact</th>\n",
       "      <th>Loyal_Customer</th>\n",
       "      <th>Creditworthiness</th>\n",
       "      <th>Cr_Util_Rate</th>\n",
       "      <th>Attrition_Flag</th>\n",
       "    </tr>\n",
       "  </thead>\n",
       "  <tbody>\n",
       "    <tr>\n",
       "      <th>0</th>\n",
       "      <td>0.0</td>\n",
       "      <td>-1.0</td>\n",
       "      <td>0.5</td>\n",
       "      <td>-1.0</td>\n",
       "      <td>0.0</td>\n",
       "      <td>0.5</td>\n",
       "      <td>0.0</td>\n",
       "      <td>0.0</td>\n",
       "      <td>0.5</td>\n",
       "      <td>-1.0</td>\n",
       "      <td>...</td>\n",
       "      <td>2.627193</td>\n",
       "      <td>-1.065558</td>\n",
       "      <td>-0.694444</td>\n",
       "      <td>3.911017</td>\n",
       "      <td>-0.239583</td>\n",
       "      <td>-0.500000</td>\n",
       "      <td>0.0</td>\n",
       "      <td>-0.284692</td>\n",
       "      <td>-0.238398</td>\n",
       "      <td>0</td>\n",
       "    </tr>\n",
       "    <tr>\n",
       "      <th>1</th>\n",
       "      <td>0.0</td>\n",
       "      <td>0.0</td>\n",
       "      <td>1.5</td>\n",
       "      <td>0.0</td>\n",
       "      <td>-1.0</td>\n",
       "      <td>-0.5</td>\n",
       "      <td>0.0</td>\n",
       "      <td>0.0</td>\n",
       "      <td>1.0</td>\n",
       "      <td>-1.0</td>\n",
       "      <td>...</td>\n",
       "      <td>3.530702</td>\n",
       "      <td>-1.008702</td>\n",
       "      <td>-0.944444</td>\n",
       "      <td>12.762712</td>\n",
       "      <td>-0.147917</td>\n",
       "      <td>-0.666667</td>\n",
       "      <td>0.0</td>\n",
       "      <td>-0.618989</td>\n",
       "      <td>-0.147921</td>\n",
       "      <td>0</td>\n",
       "    </tr>\n",
       "    <tr>\n",
       "      <th>2</th>\n",
       "      <td>0.0</td>\n",
       "      <td>-1.0</td>\n",
       "      <td>0.5</td>\n",
       "      <td>0.0</td>\n",
       "      <td>0.0</td>\n",
       "      <td>1.0</td>\n",
       "      <td>0.0</td>\n",
       "      <td>0.0</td>\n",
       "      <td>0.0</td>\n",
       "      <td>-1.0</td>\n",
       "      <td>...</td>\n",
       "      <td>8.149123</td>\n",
       "      <td>-0.778186</td>\n",
       "      <td>-1.305556</td>\n",
       "      <td>6.911017</td>\n",
       "      <td>-0.366667</td>\n",
       "      <td>-0.907407</td>\n",
       "      <td>0.0</td>\n",
       "      <td>2.281101</td>\n",
       "      <td>-0.365955</td>\n",
       "      <td>0</td>\n",
       "    </tr>\n",
       "    <tr>\n",
       "      <th>3</th>\n",
       "      <td>-1.0</td>\n",
       "      <td>0.0</td>\n",
       "      <td>1.0</td>\n",
       "      <td>-1.0</td>\n",
       "      <td>0.0</td>\n",
       "      <td>-0.5</td>\n",
       "      <td>0.0</td>\n",
       "      <td>-1.0</td>\n",
       "      <td>-0.5</td>\n",
       "      <td>2.0</td>\n",
       "      <td>...</td>\n",
       "      <td>2.934211</td>\n",
       "      <td>-1.055115</td>\n",
       "      <td>-1.305556</td>\n",
       "      <td>6.911017</td>\n",
       "      <td>1.216667</td>\n",
       "      <td>-0.537037</td>\n",
       "      <td>-1.0</td>\n",
       "      <td>-0.228374</td>\n",
       "      <td>1.216900</td>\n",
       "      <td>0</td>\n",
       "    </tr>\n",
       "    <tr>\n",
       "      <th>4</th>\n",
       "      <td>-1.0</td>\n",
       "      <td>-1.0</td>\n",
       "      <td>0.5</td>\n",
       "      <td>-1.0</td>\n",
       "      <td>0.0</td>\n",
       "      <td>0.5</td>\n",
       "      <td>0.0</td>\n",
       "      <td>-2.0</td>\n",
       "      <td>0.5</td>\n",
       "      <td>-1.0</td>\n",
       "      <td>...</td>\n",
       "      <td>6.311404</td>\n",
       "      <td>-1.192419</td>\n",
       "      <td>-1.083333</td>\n",
       "      <td>7.618644</td>\n",
       "      <td>-0.366667</td>\n",
       "      <td>-1.277778</td>\n",
       "      <td>-1.0</td>\n",
       "      <td>0.723351</td>\n",
       "      <td>-0.365955</td>\n",
       "      <td>0</td>\n",
       "    </tr>\n",
       "  </tbody>\n",
       "</table>\n",
       "<p>5 rows × 24 columns</p>\n",
       "</div>"
      ],
      "text/plain": [
       "   Customer_Age  Gender  Dependent_count  Education_Level  Marital_Status  \\\n",
       "0           0.0    -1.0              0.5             -1.0             0.0   \n",
       "1           0.0     0.0              1.5              0.0            -1.0   \n",
       "2           0.0    -1.0              0.5              0.0             0.0   \n",
       "3          -1.0     0.0              1.0             -1.0             0.0   \n",
       "4          -1.0    -1.0              0.5             -1.0             0.0   \n",
       "\n",
       "   Income_Category  Card_Category  Months_on_book  Total_Relationship_Count  \\\n",
       "0              0.5            0.0             0.0                       0.5   \n",
       "1             -0.5            0.0             0.0                       1.0   \n",
       "2              1.0            0.0             0.0                       0.0   \n",
       "3             -0.5            0.0            -1.0                      -0.5   \n",
       "4              0.5            0.0            -2.0                       0.5   \n",
       "\n",
       "   Months_Inactive_12_mon  ...  Total_Amt_Chng_Q4_Q1  Total_Trans_Amt  \\\n",
       "0                    -1.0  ...              2.627193        -1.065558   \n",
       "1                    -1.0  ...              3.530702        -1.008702   \n",
       "2                    -1.0  ...              8.149123        -0.778186   \n",
       "3                     2.0  ...              2.934211        -1.055115   \n",
       "4                    -1.0  ...              6.311404        -1.192419   \n",
       "\n",
       "   Total_Trans_Ct  Total_Ct_Chng_Q4_Q1  Avg_Utilization_Ratio  \\\n",
       "0       -0.694444             3.911017              -0.239583   \n",
       "1       -0.944444            12.762712              -0.147917   \n",
       "2       -1.305556             6.911017              -0.366667   \n",
       "3       -1.305556             6.911017               1.216667   \n",
       "4       -1.083333             7.618644              -0.366667   \n",
       "\n",
       "   Transaction_Count_per_Contact  Loyal_Customer  Creditworthiness  \\\n",
       "0                      -0.500000             0.0         -0.284692   \n",
       "1                      -0.666667             0.0         -0.618989   \n",
       "2                      -0.907407             0.0          2.281101   \n",
       "3                      -0.537037            -1.0         -0.228374   \n",
       "4                      -1.277778            -1.0          0.723351   \n",
       "\n",
       "   Cr_Util_Rate  Attrition_Flag  \n",
       "0     -0.238398               0  \n",
       "1     -0.147921               0  \n",
       "2     -0.365955               0  \n",
       "3      1.216900               0  \n",
       "4     -0.365955               0  \n",
       "\n",
       "[5 rows x 24 columns]"
      ]
     },
     "execution_count": 2,
     "metadata": {},
     "output_type": "execute_result"
    }
   ],
   "source": [
    "data = pd.read_csv(\"customer_data.csv\")\n",
    "data.head()"
   ]
  },
  {
   "cell_type": "code",
   "execution_count": 3,
   "id": "447c1826",
   "metadata": {},
   "outputs": [],
   "source": [
    "### splitting data\n",
    "X = data.iloc[:,:-1]\n",
    "y = data[\"Attrition_Flag\"]"
   ]
  },
  {
   "cell_type": "code",
   "execution_count": 4,
   "id": "d1a0bc14",
   "metadata": {},
   "outputs": [
    {
     "name": "stdout",
     "output_type": "stream",
     "text": [
      "(10127, 23)\n",
      "(10127,)\n"
     ]
    }
   ],
   "source": [
    "print(X.shape)\n",
    "print(y.shape)"
   ]
  },
  {
   "cell_type": "code",
   "execution_count": 5,
   "id": "37222f54",
   "metadata": {},
   "outputs": [],
   "source": [
    "X_train, X_test, y_train, y_test = train_test_split(X, y, train_size=0.8, random_state=69)"
   ]
  },
  {
   "cell_type": "markdown",
   "id": "41dc04c0",
   "metadata": {},
   "source": [
    "Setting the random_state variable to a specific value, such as **69** in this case, ensures that the results of the code will be reproducible. This means that if someone else runs the same code with the same random state, they will get exactly the same results as you. This is useful when you want to ensure that your results are not affected by randomness or you want to share your results with others and want them to be able to reproduce your work."
   ]
  },
  {
   "cell_type": "code",
   "execution_count": 6,
   "id": "9c610651",
   "metadata": {},
   "outputs": [],
   "source": [
    "sm = SMOTE(random_state = 69, sampling_strategy = 1.0)\n",
    "X_train, y_train = sm.fit_resample(X_train, y_train)"
   ]
  },
  {
   "cell_type": "markdown",
   "id": "194db484",
   "metadata": {},
   "source": [
    "The above line is creating an instance of Synthetic Minority Over-sampling Technique (**SMOTE**) which is an *over-sampling* technique for imbalanced datasets. This technique is used to balance the class distribution by creating synthetic samples. The sampling_strategy variable is set to 1.0, meaning that SMOTE will create as many synthetic samples as the number of samples in the minority class. The random_state variable is set to 69 to make the results reproducible.\n",
    "\n",
    "It is usually applied to the training dataset to balance the class distribution before training a model.It's not applied to the test dataset because the test dataset should be representative of the real-world data that the model will be applied to. The test dataset should be as close as possible to the real-world data, including the class imbalance. In other words, if the real-world data is imbalanced, the test dataset should also be imbalanced.\n",
    "\n",
    "Applying SMOTE to the test dataset would artificially balance the class distribution and give an overestimate of the model's performance. In addition, it would also make the test dataset no longer representative of the real-world data, which would lead to unreliable evaluation of the model's performance. In short, applying SMOTE only to the training dataset and not the test dataset maintains the integrity of the test data and allows for a more accurate evaluation of the model's performance."
   ]
  },
  {
   "cell_type": "code",
   "execution_count": 7,
   "id": "a0ee223c",
   "metadata": {},
   "outputs": [
    {
     "name": "stdout",
     "output_type": "stream",
     "text": [
      "(13584, 23)\n",
      "(13584,)\n"
     ]
    }
   ],
   "source": [
    "print(X_train.shape)\n",
    "print(y_train.shape)"
   ]
  },
  {
   "cell_type": "markdown",
   "id": "5c09a809",
   "metadata": {},
   "source": [
    "# XGBoost\n",
    "\n",
    "XGBoost is an implementation of gradient boosting that is used for supervised learning problems, such as classification and regression. It is an ensemble method, which means that it combines the predictions of multiple simpler models to create a more accurate and stable final prediction.\n",
    "\n",
    "The basic idea behind gradient boosting is to fit a sequence of simple models, such as decision trees, to the data and then combine their predictions. Each new model is trained to correct the errors made by the previous models in the sequence. The final prediction is made by combining the predictions of all the models in the sequence.\n",
    "\n",
    "XGBoost uses a specific type of decision tree called a \"gradient tree boosting\" model, which is more efficient than traditional decision trees and can handle *missing data* and *categorical variables*. It also uses a technique called **regularization** to prevent overfitting, which is a common problem when training decision tree models.\n",
    "\n",
    "#### How it works?\n",
    "XGBoost fits the first tree to the data. This tree is called the base learner. The objective of this tree is to fit the data as well as possible. The next step is to add more trees to the ensemble. Each new tree is trained to correct the errors made by the previous trees in the ensemble. The objective of each new tree is to minimize the residual error, which is the difference between the true labels and the current predictions. XGBoost also regularization to prevent overfitting. This is done by adding a penalty term to the objective function that is being minimized. The penalty term is proportional to the complexity of the model, which discourages the model from fitting the noise in the data.\n",
    "\n",
    "The mentioned steps are repeated for a fixed number of iterations or until a stopping criterion is met. After the ensemble of trees is trained, XGBoost makes predictions by combining the predictions of all the trees in the ensemble. The final prediction for a given input is calculated as the weighted sum of the predictions of all the trees, where the weight of each tree is proportional to its importance. XGBoost also provides the feature of fine-tuning the model using techniques like cross-validation, grid search etc."
   ]
  },
  {
   "cell_type": "code",
   "execution_count": 8,
   "id": "bbf8781f",
   "metadata": {},
   "outputs": [
    {
     "data": {
      "text/html": [
       "<style>#sk-container-id-1 {color: black;background-color: white;}#sk-container-id-1 pre{padding: 0;}#sk-container-id-1 div.sk-toggleable {background-color: white;}#sk-container-id-1 label.sk-toggleable__label {cursor: pointer;display: block;width: 100%;margin-bottom: 0;padding: 0.3em;box-sizing: border-box;text-align: center;}#sk-container-id-1 label.sk-toggleable__label-arrow:before {content: \"▸\";float: left;margin-right: 0.25em;color: #696969;}#sk-container-id-1 label.sk-toggleable__label-arrow:hover:before {color: black;}#sk-container-id-1 div.sk-estimator:hover label.sk-toggleable__label-arrow:before {color: black;}#sk-container-id-1 div.sk-toggleable__content {max-height: 0;max-width: 0;overflow: hidden;text-align: left;background-color: #f0f8ff;}#sk-container-id-1 div.sk-toggleable__content pre {margin: 0.2em;color: black;border-radius: 0.25em;background-color: #f0f8ff;}#sk-container-id-1 input.sk-toggleable__control:checked~div.sk-toggleable__content {max-height: 200px;max-width: 100%;overflow: auto;}#sk-container-id-1 input.sk-toggleable__control:checked~label.sk-toggleable__label-arrow:before {content: \"▾\";}#sk-container-id-1 div.sk-estimator input.sk-toggleable__control:checked~label.sk-toggleable__label {background-color: #d4ebff;}#sk-container-id-1 div.sk-label input.sk-toggleable__control:checked~label.sk-toggleable__label {background-color: #d4ebff;}#sk-container-id-1 input.sk-hidden--visually {border: 0;clip: rect(1px 1px 1px 1px);clip: rect(1px, 1px, 1px, 1px);height: 1px;margin: -1px;overflow: hidden;padding: 0;position: absolute;width: 1px;}#sk-container-id-1 div.sk-estimator {font-family: monospace;background-color: #f0f8ff;border: 1px dotted black;border-radius: 0.25em;box-sizing: border-box;margin-bottom: 0.5em;}#sk-container-id-1 div.sk-estimator:hover {background-color: #d4ebff;}#sk-container-id-1 div.sk-parallel-item::after {content: \"\";width: 100%;border-bottom: 1px solid gray;flex-grow: 1;}#sk-container-id-1 div.sk-label:hover label.sk-toggleable__label {background-color: #d4ebff;}#sk-container-id-1 div.sk-serial::before {content: \"\";position: absolute;border-left: 1px solid gray;box-sizing: border-box;top: 0;bottom: 0;left: 50%;z-index: 0;}#sk-container-id-1 div.sk-serial {display: flex;flex-direction: column;align-items: center;background-color: white;padding-right: 0.2em;padding-left: 0.2em;position: relative;}#sk-container-id-1 div.sk-item {position: relative;z-index: 1;}#sk-container-id-1 div.sk-parallel {display: flex;align-items: stretch;justify-content: center;background-color: white;position: relative;}#sk-container-id-1 div.sk-item::before, #sk-container-id-1 div.sk-parallel-item::before {content: \"\";position: absolute;border-left: 1px solid gray;box-sizing: border-box;top: 0;bottom: 0;left: 50%;z-index: -1;}#sk-container-id-1 div.sk-parallel-item {display: flex;flex-direction: column;z-index: 1;position: relative;background-color: white;}#sk-container-id-1 div.sk-parallel-item:first-child::after {align-self: flex-end;width: 50%;}#sk-container-id-1 div.sk-parallel-item:last-child::after {align-self: flex-start;width: 50%;}#sk-container-id-1 div.sk-parallel-item:only-child::after {width: 0;}#sk-container-id-1 div.sk-dashed-wrapped {border: 1px dashed gray;margin: 0 0.4em 0.5em 0.4em;box-sizing: border-box;padding-bottom: 0.4em;background-color: white;}#sk-container-id-1 div.sk-label label {font-family: monospace;font-weight: bold;display: inline-block;line-height: 1.2em;}#sk-container-id-1 div.sk-label-container {text-align: center;}#sk-container-id-1 div.sk-container {/* jupyter's `normalize.less` sets `[hidden] { display: none; }` but bootstrap.min.css set `[hidden] { display: none !important; }` so we also need the `!important` here to be able to override the default hidden behavior on the sphinx rendered scikit-learn.org. See: https://github.com/scikit-learn/scikit-learn/issues/21755 */display: inline-block !important;position: relative;}#sk-container-id-1 div.sk-text-repr-fallback {display: none;}</style><div id=\"sk-container-id-1\" class=\"sk-top-container\"><div class=\"sk-text-repr-fallback\"><pre>XGBClassifier(base_score=0.5, booster=&#x27;gbtree&#x27;, callbacks=None,\n",
       "              colsample_bylevel=1, colsample_bynode=1, colsample_bytree=1,\n",
       "              early_stopping_rounds=None, enable_categorical=False,\n",
       "              eval_metric=None, gamma=0, gpu_id=-1, grow_policy=&#x27;depthwise&#x27;,\n",
       "              importance_type=None, interaction_constraints=&#x27;&#x27;,\n",
       "              learning_rate=0.300000012, max_bin=256, max_cat_to_onehot=4,\n",
       "              max_delta_step=0, max_depth=6, max_leaves=0, min_child_weight=1,\n",
       "              missing=nan, monotone_constraints=&#x27;()&#x27;, n_estimators=100,\n",
       "              n_jobs=-1, num_parallel_tree=1, predictor=&#x27;auto&#x27;, random_state=69,\n",
       "              reg_alpha=0, reg_lambda=1, ...)</pre><b>In a Jupyter environment, please rerun this cell to show the HTML representation or trust the notebook. <br />On GitHub, the HTML representation is unable to render, please try loading this page with nbviewer.org.</b></div><div class=\"sk-container\" hidden><div class=\"sk-item\"><div class=\"sk-estimator sk-toggleable\"><input class=\"sk-toggleable__control sk-hidden--visually\" id=\"sk-estimator-id-1\" type=\"checkbox\" checked><label for=\"sk-estimator-id-1\" class=\"sk-toggleable__label sk-toggleable__label-arrow\">XGBClassifier</label><div class=\"sk-toggleable__content\"><pre>XGBClassifier(base_score=0.5, booster=&#x27;gbtree&#x27;, callbacks=None,\n",
       "              colsample_bylevel=1, colsample_bynode=1, colsample_bytree=1,\n",
       "              early_stopping_rounds=None, enable_categorical=False,\n",
       "              eval_metric=None, gamma=0, gpu_id=-1, grow_policy=&#x27;depthwise&#x27;,\n",
       "              importance_type=None, interaction_constraints=&#x27;&#x27;,\n",
       "              learning_rate=0.300000012, max_bin=256, max_cat_to_onehot=4,\n",
       "              max_delta_step=0, max_depth=6, max_leaves=0, min_child_weight=1,\n",
       "              missing=nan, monotone_constraints=&#x27;()&#x27;, n_estimators=100,\n",
       "              n_jobs=-1, num_parallel_tree=1, predictor=&#x27;auto&#x27;, random_state=69,\n",
       "              reg_alpha=0, reg_lambda=1, ...)</pre></div></div></div></div></div>"
      ],
      "text/plain": [
       "XGBClassifier(base_score=0.5, booster='gbtree', callbacks=None,\n",
       "              colsample_bylevel=1, colsample_bynode=1, colsample_bytree=1,\n",
       "              early_stopping_rounds=None, enable_categorical=False,\n",
       "              eval_metric=None, gamma=0, gpu_id=-1, grow_policy='depthwise',\n",
       "              importance_type=None, interaction_constraints='',\n",
       "              learning_rate=0.300000012, max_bin=256, max_cat_to_onehot=4,\n",
       "              max_delta_step=0, max_depth=6, max_leaves=0, min_child_weight=1,\n",
       "              missing=nan, monotone_constraints='()', n_estimators=100,\n",
       "              n_jobs=-1, num_parallel_tree=1, predictor='auto', random_state=69,\n",
       "              reg_alpha=0, reg_lambda=1, ...)"
      ]
     },
     "execution_count": 8,
     "metadata": {},
     "output_type": "execute_result"
    }
   ],
   "source": [
    "xgb_model = xgb.XGBClassifier(random_state=69, use_label_encoder=False, n_jobs=-1)\n",
    "xgb_model.fit(X_train, y_train)"
   ]
  },
  {
   "cell_type": "markdown",
   "id": "856ebc0c",
   "metadata": {},
   "source": [
    "- *random_state=69*: This sets the seed for the random number generator used to initialize the model. Setting the random seed ensures that the results are reproducible.\n",
    "- *use_label_encoder=False*: This disables the use of a label encoder, which is used to convert categorical variables to numerical values.\n",
    "- *n_jobs=-1*: This sets the number of parallel threads to use for fitting the model. A value of -1 means that the number of threads will be set to the number of cores in the system."
   ]
  },
  {
   "cell_type": "code",
   "execution_count": 9,
   "id": "88aacbef",
   "metadata": {},
   "outputs": [
    {
     "data": {
      "text/plain": [
       "0.9689042448173741"
      ]
     },
     "execution_count": 9,
     "metadata": {},
     "output_type": "execute_result"
    }
   ],
   "source": [
    "xgb_model.score(X_test, y_test)"
   ]
  },
  {
   "cell_type": "code",
   "execution_count": 10,
   "id": "61328053",
   "metadata": {},
   "outputs": [],
   "source": [
    "y_pred = xgb_model.predict(X_test)"
   ]
  },
  {
   "cell_type": "code",
   "execution_count": 11,
   "id": "a0f565b4",
   "metadata": {},
   "outputs": [
    {
     "data": {
      "text/plain": [
       "2026"
      ]
     },
     "execution_count": 11,
     "metadata": {},
     "output_type": "execute_result"
    }
   ],
   "source": [
    "len(y_pred)"
   ]
  },
  {
   "cell_type": "markdown",
   "id": "0b928778",
   "metadata": {},
   "source": [
    "The classifier object is trained on the training dataset, which is used to learn the relationship between the features and the target variable. The predict() method uses this learned relationship to make predictions for new samples."
   ]
  },
  {
   "cell_type": "code",
   "execution_count": 12,
   "id": "3f88b0a5",
   "metadata": {},
   "outputs": [
    {
     "name": "stdout",
     "output_type": "stream",
     "text": [
      "              precision    recall  f1-score   support\n",
      "\n",
      "           0       0.98      0.98      0.98      1708\n",
      "           1       0.90      0.90      0.90       318\n",
      "\n",
      "    accuracy                           0.97      2026\n",
      "   macro avg       0.94      0.94      0.94      2026\n",
      "weighted avg       0.97      0.97      0.97      2026\n",
      "\n"
     ]
    }
   ],
   "source": [
    "print(classification_report(y_test, y_pred))"
   ]
  },
  {
   "cell_type": "code",
   "execution_count": 13,
   "id": "ff8bd627",
   "metadata": {},
   "outputs": [
    {
     "data": {
      "text/plain": [
       "array([[1678,   30],\n",
       "       [  33,  285]], dtype=int64)"
      ]
     },
     "execution_count": 13,
     "metadata": {},
     "output_type": "execute_result"
    }
   ],
   "source": [
    "confusion_matrix(y_test, y_pred)"
   ]
  },
  {
   "cell_type": "code",
   "execution_count": 14,
   "id": "07625bfd",
   "metadata": {},
   "outputs": [
    {
     "data": {
      "image/png": "[encoded data removed]",
      "text/plain": [
       "<Figure size 864x1080 with 2 Axes>"
      ]
     },
     "metadata": {
      "needs_background": "light"
     },
     "output_type": "display_data"
    }
   ],
   "source": [
    "cf_matrix = confusion_matrix(y_test, y_pred)\n",
    "colormap = sns.color_palette(\"Blues\")\n",
    "plt.figure(figsize=(12,15));\n",
    "sns.heatmap(cf_matrix, annot=True,cmap=colormap,fmt=\".1f\");"
   ]
  },
  {
   "cell_type": "markdown",
   "id": "5aac1109",
   "metadata": {},
   "source": [
    "----------------------------------------------------\n",
    "\n",
    "# Given the new client, will this client churn?"
   ]
  },
  {
   "cell_type": "code",
   "execution_count": 15,
   "id": "ef4e93b9",
   "metadata": {},
   "outputs": [],
   "source": [
    "feature_ranges = {\n",
    "    \"Customer_Age\" :(-2.0, 2.0),\n",
    "    \"Gender\": (-1.0, 0.0),\n",
    "    \"Dependent_count\": (-1.0, 1.5),\n",
    "    \"Education_Level\": (-1.0, 1.0),\n",
    "    \"Marital_Status\": (-1.0, 1.0),\n",
    "    \"Income_Category\": (-0.5, 1.5),\n",
    "    \"Card_Category\": (0.0, 3.0),\n",
    "    \"Months_on_book\": (-2.0, 1.0),\n",
    "    \"Total_Relationship_Count\": (-1.5, 1.0),\n",
    "    \"Months_Inactive_12_mon\": (-2.0, 4.0),\n",
    "    \"Contacts_Count_12_mon\": (-2.0, 4.0),\n",
    "    \"Credit_Limit\": (-0.3654273127753303, 3.520352422907489),\n",
    "    \"Total_Revolving_Bal\": (-0.895438596491228, 0.8708771929824561),\n",
    "    \"Avg_Open_To_Buy\": (-0.4067022086824067, 3.6372370964907135),\n",
    "    \"Total_Amt_Chng_Q4_Q1\": (-3.2280701754385968, 11.671052631578949),\n",
    "    \"Total_Trans_Amt\": (-1.3107716109069811, 5.641075227228776),\n",
    "    \"Total_Trans_Ct\": (-1.5833333333333333, 2.0),\n",
    "    \"Total_Ct_Chng_Q4_Q1\": (-2.9745762711864407, 12.76271186440678),\n",
    "    \"Avg_Utilization_Ratio\": (-0.3666666666666666, 1.7145833333333331),\n",
    "    \"Transaction_Count_per_Contact\": (-1.2777777777777777, 3.87037037037037),\n",
    "    \"Loyal_Customer\": (-1.0, 0.0),\n",
    "    \"Creditworthiness\": (-0.7455937133620327, 8.887382419041861),\n",
    "    \"Cr_Util_Rate\": (-0.3659547645100451, 1.7149103774907906),\n",
    "}"
   ]
  },
  {
   "cell_type": "code",
   "execution_count": 16,
   "id": "9b036708",
   "metadata": {},
   "outputs": [
    {
     "name": "stdout",
     "output_type": "stream",
     "text": [
      "1\n"
     ]
    }
   ],
   "source": [
    "client_data = {}\n",
    "\n",
    "# generate random values for each feature\n",
    "for feature, range_ in feature_ranges.items():\n",
    "    if isinstance(range_, tuple):\n",
    "        client_data[feature] = np.random.uniform(range_[0], range_[1])\n",
    "    else:\n",
    "        client_data[feature] = np.random.choice(range_)\n",
    "\n",
    "# convert the dictionary to a numpy array\n",
    "client_data = np.array(list(client_data.values()))\n",
    "\n",
    "# reshape the array to 2D\n",
    "client_data = client_data.reshape(1, -1)\n",
    "\n",
    "client_data_df = pd.DataFrame(client_data, columns=feature_ranges.keys())\n",
    "\n",
    "# make the prediction\n",
    "y_pred_new = xgb_model.predict(client_data.reshape(1, -1))\n",
    "\n",
    "# print the prediction\n",
    "print(y_pred_new[0])"
   ]
  },
  {
   "cell_type": "markdown",
   "id": "4435a615",
   "metadata": {},
   "source": [
    "First define a dictionary called feature_ranges to specify the range of values for each feature. Then create a dictionary called client_data to store the synthetic client data. The numpy.random.uniform() function used to generate random values for continuous variables and numpy.random.choice() to generate random values for categorical variables. Finally, the dictionary converted to a numpy array and use the predict() method of the trained XGBoost model to make a prediction on the synthetic client data."
   ]
  },
  {
   "cell_type": "code",
   "execution_count": 18,
   "id": "1ef29c27",
   "metadata": {},
   "outputs": [
    {
     "data": {
      "text/plain": [
       "Customer_Age                    -2.000000\n",
       "Gender                          -1.000000\n",
       "Dependent_count                 -0.500000\n",
       "Education_Level                  0.000000\n",
       "Marital_Status                   0.000000\n",
       "Income_Category                  0.500000\n",
       "Card_Category                    0.000000\n",
       "Months_on_book                  -2.000000\n",
       "Total_Relationship_Count         0.500000\n",
       "Months_Inactive_12_mon          -1.000000\n",
       "Contacts_Count_12_mon            1.000000\n",
       "Credit_Limit                    -0.218972\n",
       "Total_Revolving_Bal              0.213333\n",
       "Avg_Open_To_Buy                 -0.277579\n",
       "Total_Amt_Chng_Q4_Q1            -0.039474\n",
       "Total_Trans_Amt                 -0.872945\n",
       "Total_Trans_Ct                  -0.861111\n",
       "Total_Ct_Chng_Q4_Q1             -0.279661\n",
       "Avg_Utilization_Ratio            0.858333\n",
       "Transaction_Count_per_Contact   -1.277778\n",
       "Loyal_Customer                  -1.000000\n",
       "Creditworthiness                 1.936766\n",
       "Cr_Util_Rate                     0.860050\n",
       "Name: 1498, dtype: float64"
      ]
     },
     "execution_count": 18,
     "metadata": {},
     "output_type": "execute_result"
    }
   ],
   "source": [
    "r = random.randint(0,len(y_pred))\n",
    "random_cli = data.drop('Attrition_Flag', axis=1).iloc[r]\n",
    "random_cli"
   ]
  },
  {
   "cell_type": "code",
   "execution_count": 19,
   "id": "1545b2f0",
   "metadata": {},
   "outputs": [
    {
     "data": {
      "text/html": [
       "<div>\n",
       "<style scoped>\n",
       "    .dataframe tbody tr th:only-of-type {\n",
       "        vertical-align: middle;\n",
       "    }\n",
       "\n",
       "    .dataframe tbody tr th {\n",
       "        vertical-align: top;\n",
       "    }\n",
       "\n",
       "    .dataframe thead th {\n",
       "        text-align: right;\n",
       "    }\n",
       "</style>\n",
       "<table border=\"1\" class=\"dataframe\">\n",
       "  <thead>\n",
       "    <tr style=\"text-align: right;\">\n",
       "      <th></th>\n",
       "      <th>Customer_Age</th>\n",
       "      <th>Gender</th>\n",
       "      <th>Dependent_count</th>\n",
       "      <th>Education_Level</th>\n",
       "      <th>Marital_Status</th>\n",
       "      <th>Income_Category</th>\n",
       "      <th>Card_Category</th>\n",
       "      <th>Months_on_book</th>\n",
       "      <th>Total_Relationship_Count</th>\n",
       "      <th>Months_Inactive_12_mon</th>\n",
       "      <th>...</th>\n",
       "      <th>Total_Amt_Chng_Q4_Q1</th>\n",
       "      <th>Total_Trans_Amt</th>\n",
       "      <th>Total_Trans_Ct</th>\n",
       "      <th>Total_Ct_Chng_Q4_Q1</th>\n",
       "      <th>Avg_Utilization_Ratio</th>\n",
       "      <th>Transaction_Count_per_Contact</th>\n",
       "      <th>Loyal_Customer</th>\n",
       "      <th>Creditworthiness</th>\n",
       "      <th>Cr_Util_Rate</th>\n",
       "      <th>Attrition_Flag</th>\n",
       "    </tr>\n",
       "  </thead>\n",
       "  <tbody>\n",
       "    <tr>\n",
       "      <th>0</th>\n",
       "      <td>0.112336</td>\n",
       "      <td>-0.274605</td>\n",
       "      <td>-0.465168</td>\n",
       "      <td>-0.066255</td>\n",
       "      <td>0.002471</td>\n",
       "      <td>-0.200361</td>\n",
       "      <td>2.224909</td>\n",
       "      <td>0.210136</td>\n",
       "      <td>-1.099084</td>\n",
       "      <td>2.039806</td>\n",
       "      <td>...</td>\n",
       "      <td>5.431291</td>\n",
       "      <td>0.102196</td>\n",
       "      <td>-0.060263</td>\n",
       "      <td>-0.540119</td>\n",
       "      <td>0.773368</td>\n",
       "      <td>3.284727</td>\n",
       "      <td>-0.44056</td>\n",
       "      <td>3.831066</td>\n",
       "      <td>1.064875</td>\n",
       "      <td>1</td>\n",
       "    </tr>\n",
       "    <tr>\n",
       "      <th>1</th>\n",
       "      <td>-2.000000</td>\n",
       "      <td>-1.000000</td>\n",
       "      <td>-0.500000</td>\n",
       "      <td>0.000000</td>\n",
       "      <td>0.000000</td>\n",
       "      <td>0.500000</td>\n",
       "      <td>0.000000</td>\n",
       "      <td>-2.000000</td>\n",
       "      <td>0.500000</td>\n",
       "      <td>-1.000000</td>\n",
       "      <td>...</td>\n",
       "      <td>-0.039474</td>\n",
       "      <td>-0.872945</td>\n",
       "      <td>-0.861111</td>\n",
       "      <td>-0.279661</td>\n",
       "      <td>0.858333</td>\n",
       "      <td>-1.277778</td>\n",
       "      <td>-1.00000</td>\n",
       "      <td>1.936766</td>\n",
       "      <td>0.860050</td>\n",
       "      <td>0</td>\n",
       "    </tr>\n",
       "  </tbody>\n",
       "</table>\n",
       "<p>2 rows × 24 columns</p>\n",
       "</div>"
      ],
      "text/plain": [
       "   Customer_Age    Gender  Dependent_count  Education_Level  Marital_Status  \\\n",
       "0      0.112336 -0.274605        -0.465168        -0.066255        0.002471   \n",
       "1     -2.000000 -1.000000        -0.500000         0.000000        0.000000   \n",
       "\n",
       "   Income_Category  Card_Category  Months_on_book  Total_Relationship_Count  \\\n",
       "0        -0.200361       2.224909        0.210136                 -1.099084   \n",
       "1         0.500000       0.000000       -2.000000                  0.500000   \n",
       "\n",
       "   Months_Inactive_12_mon  ...  Total_Amt_Chng_Q4_Q1  Total_Trans_Amt  \\\n",
       "0                2.039806  ...              5.431291         0.102196   \n",
       "1               -1.000000  ...             -0.039474        -0.872945   \n",
       "\n",
       "   Total_Trans_Ct  Total_Ct_Chng_Q4_Q1  Avg_Utilization_Ratio  \\\n",
       "0       -0.060263            -0.540119               0.773368   \n",
       "1       -0.861111            -0.279661               0.858333   \n",
       "\n",
       "   Transaction_Count_per_Contact  Loyal_Customer  Creditworthiness  \\\n",
       "0                       3.284727        -0.44056          3.831066   \n",
       "1                      -1.277778        -1.00000          1.936766   \n",
       "\n",
       "   Cr_Util_Rate  Attrition_Flag  \n",
       "0      1.064875               1  \n",
       "1      0.860050               0  \n",
       "\n",
       "[2 rows x 24 columns]"
      ]
     },
     "execution_count": 19,
     "metadata": {},
     "output_type": "execute_result"
    }
   ],
   "source": [
    "clients = client_data_df.append(random_cli, ignore_index=True)\n",
    "clients[\"Attrition_Flag\"] = [y_pred_new[0],y_pred[r]]\n",
    "clients"
   ]
  },
  {
   "cell_type": "code",
   "execution_count": null,
   "id": "887ab99c",
   "metadata": {},
   "outputs": [],
   "source": []
  }
 ],
 "metadata": {
  "kernelspec": {
   "display_name": "Python 3 (ipykernel)",
   "language": "python",
   "name": "python3"
  },
  "language_info": {
   "codemirror_mode": {
    "name": "ipython",
    "version": 3
   },
   "file_extension": ".py",
   "mimetype": "text/x-python",
   "name": "python",
   "nbconvert_exporter": "python",
   "pygments_lexer": "ipython3",
   "version": "3.9.13"
  }
 },
 "nbformat": 4,
 "nbformat_minor": 5
}
